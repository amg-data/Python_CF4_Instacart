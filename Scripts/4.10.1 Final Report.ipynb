{
 "cells": [
  {
   "cell_type": "markdown",
   "id": "af4779bc-5572-4fab-9116-c6ffa6512a10",
   "metadata": {},
   "source": [
    "## 4.10.1 Part 1 Final Report"
   ]
  },
  {
   "cell_type": "markdown",
   "id": "ff85a708-12af-4933-bfa6-74ab6c557e76",
   "metadata": {},
   "source": [
    "### This script contains the following points:\n",
    "\n",
    "#### 1. Import Customer Data & Check Dimensions\n",
    "#### 2. Remove PII data: first_name, last_name columns\n",
    "#### 3. Create Regional Segmentation & compare with spending habits\n",
    "#### 4. Create Exclusion flag for customers w/ <5 orders - Export this sample\n",
    "#### 5. Create a profiling variable\n",
    "#### 6. Aggregate max, mean, and min on a customer-profile level for usage frequency and expenditure & Create visualizations\n",
    "#### 7. Compare profiles with regions and departments to identify possible links & Create charts\n",
    "#### 8. Export final data set"
   ]
  },
  {
   "cell_type": "markdown",
   "id": "96f60c8c-2a38-4f54-bcd5-212c3362597c",
   "metadata": {},
   "source": [
    "### 01. Import data & Check dimensions"
   ]
  },
  {
   "cell_type": "code",
   "execution_count": 1,
   "id": "89f2f110-6d45-4fc0-bab3-934355f99383",
   "metadata": {},
   "outputs": [],
   "source": [
    "# Import libraries\n",
    "\n",
    "import pandas as pd\n",
    "import numpy as np\n",
    "import os\n",
    "import matplotlib.pyplot as plt\n",
    "import seaborn as sns\n",
    "import scipy"
   ]
  },
  {
   "cell_type": "code",
   "execution_count": 2,
   "id": "9f71cd0e-0351-49a4-a173-4b588c2ba348",
   "metadata": {},
   "outputs": [],
   "source": [
    "# Tell pandas not to truncate columns\n",
    "\n",
    "pd.set_option('display.max_columns', None)"
   ]
  },
  {
   "cell_type": "code",
   "execution_count": 3,
   "id": "dd936cf4-e710-4677-9328-3326c7e8511e",
   "metadata": {
    "scrolled": true
   },
   "outputs": [
    {
     "data": {
      "text/html": [
       "<div>\n",
       "<style scoped>\n",
       "    .dataframe tbody tr th:only-of-type {\n",
       "        vertical-align: middle;\n",
       "    }\n",
       "\n",
       "    .dataframe tbody tr th {\n",
       "        vertical-align: top;\n",
       "    }\n",
       "\n",
       "    .dataframe thead th {\n",
       "        text-align: right;\n",
       "    }\n",
       "</style>\n",
       "<table border=\"1\" class=\"dataframe\">\n",
       "  <thead>\n",
       "    <tr style=\"text-align: right;\">\n",
       "      <th></th>\n",
       "      <th>order_id</th>\n",
       "      <th>user_id</th>\n",
       "      <th>order_number</th>\n",
       "      <th>orders_day_of_week</th>\n",
       "      <th>order_hour_of_day</th>\n",
       "      <th>days_since_prior_order</th>\n",
       "      <th>product_id</th>\n",
       "      <th>add_to_cart_order</th>\n",
       "      <th>reordered</th>\n",
       "      <th>product_name</th>\n",
       "      <th>aisle_id</th>\n",
       "      <th>department_id</th>\n",
       "      <th>prices</th>\n",
       "      <th>price_range</th>\n",
       "      <th>busiest_days</th>\n",
       "      <th>busiest_period_of_day</th>\n",
       "      <th>max_order</th>\n",
       "      <th>loyalty_flag</th>\n",
       "      <th>avg_prices</th>\n",
       "      <th>spending_flag</th>\n",
       "      <th>median_days</th>\n",
       "      <th>order_freq_flag</th>\n",
       "      <th>first_name</th>\n",
       "      <th>last_name</th>\n",
       "      <th>gender</th>\n",
       "      <th>state</th>\n",
       "      <th>age</th>\n",
       "      <th>date_joined</th>\n",
       "      <th>dependents</th>\n",
       "      <th>fam_status</th>\n",
       "      <th>income</th>\n",
       "      <th>_merge</th>\n",
       "    </tr>\n",
       "  </thead>\n",
       "  <tbody>\n",
       "    <tr>\n",
       "      <th>0</th>\n",
       "      <td>2398795</td>\n",
       "      <td>1</td>\n",
       "      <td>2</td>\n",
       "      <td>3</td>\n",
       "      <td>7</td>\n",
       "      <td>15.0</td>\n",
       "      <td>196</td>\n",
       "      <td>1</td>\n",
       "      <td>1</td>\n",
       "      <td>Soda</td>\n",
       "      <td>77</td>\n",
       "      <td>7</td>\n",
       "      <td>9.0</td>\n",
       "      <td>Mid-range product</td>\n",
       "      <td>Least busy</td>\n",
       "      <td>Average orders</td>\n",
       "      <td>10</td>\n",
       "      <td>New customer</td>\n",
       "      <td>6.372222</td>\n",
       "      <td>Low Spender</td>\n",
       "      <td>20.5</td>\n",
       "      <td>Non-frequent customer</td>\n",
       "      <td>Linda</td>\n",
       "      <td>Nguyen</td>\n",
       "      <td>Female</td>\n",
       "      <td>Alabama</td>\n",
       "      <td>31</td>\n",
       "      <td>2/17/2019</td>\n",
       "      <td>3</td>\n",
       "      <td>married</td>\n",
       "      <td>40423</td>\n",
       "      <td>both</td>\n",
       "    </tr>\n",
       "    <tr>\n",
       "      <th>1</th>\n",
       "      <td>2398795</td>\n",
       "      <td>1</td>\n",
       "      <td>2</td>\n",
       "      <td>3</td>\n",
       "      <td>7</td>\n",
       "      <td>15.0</td>\n",
       "      <td>10258</td>\n",
       "      <td>2</td>\n",
       "      <td>0</td>\n",
       "      <td>Pistachios</td>\n",
       "      <td>117</td>\n",
       "      <td>19</td>\n",
       "      <td>3.0</td>\n",
       "      <td>Low-range product</td>\n",
       "      <td>Least busy</td>\n",
       "      <td>Average orders</td>\n",
       "      <td>10</td>\n",
       "      <td>New customer</td>\n",
       "      <td>6.372222</td>\n",
       "      <td>Low Spender</td>\n",
       "      <td>20.5</td>\n",
       "      <td>Non-frequent customer</td>\n",
       "      <td>Linda</td>\n",
       "      <td>Nguyen</td>\n",
       "      <td>Female</td>\n",
       "      <td>Alabama</td>\n",
       "      <td>31</td>\n",
       "      <td>2/17/2019</td>\n",
       "      <td>3</td>\n",
       "      <td>married</td>\n",
       "      <td>40423</td>\n",
       "      <td>both</td>\n",
       "    </tr>\n",
       "    <tr>\n",
       "      <th>2</th>\n",
       "      <td>2398795</td>\n",
       "      <td>1</td>\n",
       "      <td>2</td>\n",
       "      <td>3</td>\n",
       "      <td>7</td>\n",
       "      <td>15.0</td>\n",
       "      <td>12427</td>\n",
       "      <td>3</td>\n",
       "      <td>1</td>\n",
       "      <td>Original Beef Jerky</td>\n",
       "      <td>23</td>\n",
       "      <td>19</td>\n",
       "      <td>4.4</td>\n",
       "      <td>Low-range product</td>\n",
       "      <td>Least busy</td>\n",
       "      <td>Average orders</td>\n",
       "      <td>10</td>\n",
       "      <td>New customer</td>\n",
       "      <td>6.372222</td>\n",
       "      <td>Low Spender</td>\n",
       "      <td>20.5</td>\n",
       "      <td>Non-frequent customer</td>\n",
       "      <td>Linda</td>\n",
       "      <td>Nguyen</td>\n",
       "      <td>Female</td>\n",
       "      <td>Alabama</td>\n",
       "      <td>31</td>\n",
       "      <td>2/17/2019</td>\n",
       "      <td>3</td>\n",
       "      <td>married</td>\n",
       "      <td>40423</td>\n",
       "      <td>both</td>\n",
       "    </tr>\n",
       "    <tr>\n",
       "      <th>3</th>\n",
       "      <td>2398795</td>\n",
       "      <td>1</td>\n",
       "      <td>2</td>\n",
       "      <td>3</td>\n",
       "      <td>7</td>\n",
       "      <td>15.0</td>\n",
       "      <td>13176</td>\n",
       "      <td>4</td>\n",
       "      <td>0</td>\n",
       "      <td>Bag of Organic Bananas</td>\n",
       "      <td>24</td>\n",
       "      <td>4</td>\n",
       "      <td>10.3</td>\n",
       "      <td>Mid-range product</td>\n",
       "      <td>Least busy</td>\n",
       "      <td>Average orders</td>\n",
       "      <td>10</td>\n",
       "      <td>New customer</td>\n",
       "      <td>6.372222</td>\n",
       "      <td>Low Spender</td>\n",
       "      <td>20.5</td>\n",
       "      <td>Non-frequent customer</td>\n",
       "      <td>Linda</td>\n",
       "      <td>Nguyen</td>\n",
       "      <td>Female</td>\n",
       "      <td>Alabama</td>\n",
       "      <td>31</td>\n",
       "      <td>2/17/2019</td>\n",
       "      <td>3</td>\n",
       "      <td>married</td>\n",
       "      <td>40423</td>\n",
       "      <td>both</td>\n",
       "    </tr>\n",
       "    <tr>\n",
       "      <th>4</th>\n",
       "      <td>2398795</td>\n",
       "      <td>1</td>\n",
       "      <td>2</td>\n",
       "      <td>3</td>\n",
       "      <td>7</td>\n",
       "      <td>15.0</td>\n",
       "      <td>26088</td>\n",
       "      <td>5</td>\n",
       "      <td>1</td>\n",
       "      <td>Aged White Cheddar Popcorn</td>\n",
       "      <td>23</td>\n",
       "      <td>19</td>\n",
       "      <td>4.7</td>\n",
       "      <td>Low-range product</td>\n",
       "      <td>Least busy</td>\n",
       "      <td>Average orders</td>\n",
       "      <td>10</td>\n",
       "      <td>New customer</td>\n",
       "      <td>6.372222</td>\n",
       "      <td>Low Spender</td>\n",
       "      <td>20.5</td>\n",
       "      <td>Non-frequent customer</td>\n",
       "      <td>Linda</td>\n",
       "      <td>Nguyen</td>\n",
       "      <td>Female</td>\n",
       "      <td>Alabama</td>\n",
       "      <td>31</td>\n",
       "      <td>2/17/2019</td>\n",
       "      <td>3</td>\n",
       "      <td>married</td>\n",
       "      <td>40423</td>\n",
       "      <td>both</td>\n",
       "    </tr>\n",
       "  </tbody>\n",
       "</table>\n",
       "</div>"
      ],
      "text/plain": [
       "  order_id user_id  order_number  orders_day_of_week  order_hour_of_day  \\\n",
       "0  2398795       1             2                   3                  7   \n",
       "1  2398795       1             2                   3                  7   \n",
       "2  2398795       1             2                   3                  7   \n",
       "3  2398795       1             2                   3                  7   \n",
       "4  2398795       1             2                   3                  7   \n",
       "\n",
       "   days_since_prior_order product_id  add_to_cart_order  reordered  \\\n",
       "0                    15.0        196                  1          1   \n",
       "1                    15.0      10258                  2          0   \n",
       "2                    15.0      12427                  3          1   \n",
       "3                    15.0      13176                  4          0   \n",
       "4                    15.0      26088                  5          1   \n",
       "\n",
       "                 product_name aisle_id department_id  prices  \\\n",
       "0                        Soda       77             7     9.0   \n",
       "1                  Pistachios      117            19     3.0   \n",
       "2         Original Beef Jerky       23            19     4.4   \n",
       "3      Bag of Organic Bananas       24             4    10.3   \n",
       "4  Aged White Cheddar Popcorn       23            19     4.7   \n",
       "\n",
       "         price_range busiest_days busiest_period_of_day  max_order  \\\n",
       "0  Mid-range product   Least busy        Average orders         10   \n",
       "1  Low-range product   Least busy        Average orders         10   \n",
       "2  Low-range product   Least busy        Average orders         10   \n",
       "3  Mid-range product   Least busy        Average orders         10   \n",
       "4  Low-range product   Least busy        Average orders         10   \n",
       "\n",
       "   loyalty_flag  avg_prices spending_flag  median_days        order_freq_flag  \\\n",
       "0  New customer    6.372222   Low Spender         20.5  Non-frequent customer   \n",
       "1  New customer    6.372222   Low Spender         20.5  Non-frequent customer   \n",
       "2  New customer    6.372222   Low Spender         20.5  Non-frequent customer   \n",
       "3  New customer    6.372222   Low Spender         20.5  Non-frequent customer   \n",
       "4  New customer    6.372222   Low Spender         20.5  Non-frequent customer   \n",
       "\n",
       "  first_name last_name  gender    state  age date_joined  dependents  \\\n",
       "0      Linda    Nguyen  Female  Alabama   31   2/17/2019           3   \n",
       "1      Linda    Nguyen  Female  Alabama   31   2/17/2019           3   \n",
       "2      Linda    Nguyen  Female  Alabama   31   2/17/2019           3   \n",
       "3      Linda    Nguyen  Female  Alabama   31   2/17/2019           3   \n",
       "4      Linda    Nguyen  Female  Alabama   31   2/17/2019           3   \n",
       "\n",
       "  fam_status  income _merge  \n",
       "0    married   40423   both  \n",
       "1    married   40423   both  \n",
       "2    married   40423   both  \n",
       "3    married   40423   both  \n",
       "4    married   40423   both  "
      ]
     },
     "execution_count": 3,
     "metadata": {},
     "output_type": "execute_result"
    }
   ],
   "source": [
    "# Create string path for main project folder\n",
    "\n",
    "path = r'/Users/AngieUS/Desktop/Instacart Project'\n",
    "\n",
    "# Import orders_products_all data \n",
    "\n",
    "df_all = pd.read_pickle(os.path.join(path, '02 Data', 'Prepared Data', 'orders_products_all.pkl'))\n",
    "\n",
    "# Check df_all\n",
    "\n",
    "df_all.head()  "
   ]
  },
  {
   "cell_type": "code",
   "execution_count": 4,
   "id": "cb081a0c-054a-4ef2-a122-ccdc940710c4",
   "metadata": {},
   "outputs": [
    {
     "data": {
      "text/plain": [
       "(28662590, 32)"
      ]
     },
     "execution_count": 4,
     "metadata": {},
     "output_type": "execute_result"
    }
   ],
   "source": [
    "# Display dimensions of df_all\n",
    "\n",
    "df_all.shape"
   ]
  },
  {
   "cell_type": "markdown",
   "id": "50f51146-a3c6-4bc7-8fd5-b248656e95a8",
   "metadata": {},
   "source": [
    "### 02. Remove PII data: first_name, last_name columns"
   ]
  },
  {
   "cell_type": "code",
   "execution_count": 5,
   "id": "31a35583-f317-4eec-bbf7-31268dc24403",
   "metadata": {},
   "outputs": [],
   "source": [
    "# Remove first_name, last_name columns per PII rules\n",
    "df_all.drop(['first_name', 'last_name'], axis=1, inplace = True)"
   ]
  },
  {
   "cell_type": "code",
   "execution_count": 6,
   "id": "1efa568a-0e9d-497a-a7ab-47538f344c3a",
   "metadata": {},
   "outputs": [
    {
     "name": "stdout",
     "output_type": "stream",
     "text": [
      "<class 'pandas.core.frame.DataFrame'>\n",
      "RangeIndex: 28662590 entries, 0 to 28662589\n",
      "Data columns (total 30 columns):\n",
      " #   Column                  Dtype   \n",
      "---  ------                  -----   \n",
      " 0   order_id                object  \n",
      " 1   user_id                 object  \n",
      " 2   order_number            int64   \n",
      " 3   orders_day_of_week      int64   \n",
      " 4   order_hour_of_day       int64   \n",
      " 5   days_since_prior_order  float64 \n",
      " 6   product_id              object  \n",
      " 7   add_to_cart_order       int64   \n",
      " 8   reordered               int64   \n",
      " 9   product_name            object  \n",
      " 10  aisle_id                object  \n",
      " 11  department_id           object  \n",
      " 12  prices                  float64 \n",
      " 13  price_range             object  \n",
      " 14  busiest_days            object  \n",
      " 15  busiest_period_of_day   object  \n",
      " 16  max_order               int64   \n",
      " 17  loyalty_flag            object  \n",
      " 18  avg_prices              float64 \n",
      " 19  spending_flag           object  \n",
      " 20  median_days             float64 \n",
      " 21  order_freq_flag         object  \n",
      " 22  gender                  object  \n",
      " 23  state                   object  \n",
      " 24  age                     int64   \n",
      " 25  date_joined             object  \n",
      " 26  dependents              int64   \n",
      " 27  fam_status              object  \n",
      " 28  income                  int64   \n",
      " 29  _merge                  category\n",
      "dtypes: category(1), float64(4), int64(9), object(16)\n",
      "memory usage: 6.2+ GB\n"
     ]
    }
   ],
   "source": [
    "# Check df_all\n",
    "\n",
    "df_all.info()"
   ]
  },
  {
   "cell_type": "code",
   "execution_count": 7,
   "id": "7b4f1951-06d7-48cb-ba34-99573acc4bda",
   "metadata": {},
   "outputs": [
    {
     "data": {
      "text/plain": [
       "(28662590, 30)"
      ]
     },
     "execution_count": 7,
     "metadata": {},
     "output_type": "execute_result"
    }
   ],
   "source": [
    "# Display dimensions of df_all\n",
    "\n",
    "df_all.shape"
   ]
  },
  {
   "cell_type": "markdown",
   "id": "1cfcd108-df89-4a05-9909-e40b3c1d2885",
   "metadata": {},
   "source": [
    "### 03. Create 'region' variable & cross-compare with 'spending_flag'"
   ]
  },
  {
   "cell_type": "code",
   "execution_count": 8,
   "id": "d405b250-1d2f-4d3b-8f5f-00c43b5ab56d",
   "metadata": {},
   "outputs": [
    {
     "data": {
      "text/plain": [
       "state\n",
       "California              591951\n",
       "Pennsylvania            590916\n",
       "Rhode Island            582508\n",
       "Georgia                 582058\n",
       "Arizona                 580971\n",
       "North Carolina          579356\n",
       "Oklahoma                576734\n",
       "Minnesota               574942\n",
       "New Mexico              572728\n",
       "Alaska                  571554\n",
       "Maine                   571404\n",
       "Wyoming                 571032\n",
       "Massachusetts           570919\n",
       "Arkansas                569161\n",
       "Mississippi             568003\n",
       "Texas                   566903\n",
       "North Dakota            566394\n",
       "Nevada                  566281\n",
       "Missouri                566002\n",
       "Virginia                565228\n",
       "Washington              563804\n",
       "South Carolina          563690\n",
       "South Dakota            563533\n",
       "Kansas                  563351\n",
       "Louisiana               563349\n",
       "Alabama                 563191\n",
       "New York                562532\n",
       "Montana                 562050\n",
       "Kentucky                561794\n",
       "Colorado                561702\n",
       "Michigan                561609\n",
       "Delaware                560507\n",
       "Oregon                  560203\n",
       "Indiana                 557718\n",
       "Hawaii                  555281\n",
       "Connecticut             554727\n",
       "Ohio                    554489\n",
       "Iowa                    553359\n",
       "Illinois                553135\n",
       "New Jersey              552531\n",
       "Maryland                551872\n",
       "Florida                 551370\n",
       "Nebraska                550563\n",
       "Wisconsin               547749\n",
       "New Hampshire           546897\n",
       "Tennessee               543557\n",
       "Vermont                 542026\n",
       "Utah                    540100\n",
       "West Virginia           539625\n",
       "District of Columbia    536885\n",
       "Idaho                   534346\n",
       "Name: count, dtype: int64"
      ]
     },
     "execution_count": 8,
     "metadata": {},
     "output_type": "execute_result"
    }
   ],
   "source": [
    "# Check frequency & quality of state column - prep for region conditions\n",
    "\n",
    "df_all['state'].value_counts(dropna=False)"
   ]
  },
  {
   "cell_type": "code",
   "execution_count": 9,
   "id": "64705fee-e455-4429-98b9-361dc3b513f7",
   "metadata": {},
   "outputs": [],
   "source": [
    "# Create conditional state lists for new region variable\n",
    "\n",
    "northeast=['Maine','New Hampshire','Vermont','Massachusetts','Rhode Island','Connecticut','New York','Pennsylvania','New Jersey']\n",
    "midwest=['Wisconsin','Michigan','Illinois','Indiana','Ohio','North Dakota','South Dakota','Nebraska','Kansas','Minnesota','Iowa','Missouri']\n",
    "south=['Delaware','Maryland','District of Columbia','Virginia','West Virginia','North Carolina','South Carolina','Georgia','Florida','Kentucky','Tennessee','Mississippi','Alabama','Oklahoma','Texas','Arkansas','Louisiana']\n",
    "west=['Idaho','Montana','Wyoming','Nevada','Utah','Colorado','Arizona','New Mexico','Alaska','Washington','Oregon','California','Hawaii']"
   ]
  },
  {
   "cell_type": "code",
   "execution_count": 10,
   "id": "5e454479-38f2-413e-a683-f6910394bd00",
   "metadata": {
    "scrolled": true
   },
   "outputs": [],
   "source": [
    "# Create new region variable with conditions\n",
    "\n",
    "df_all.loc[df_all['state'].isin(northeast),'region']='northeast'"
   ]
  },
  {
   "cell_type": "code",
   "execution_count": 11,
   "id": "0744e316-c117-4f17-a25f-bd5dbcc6b3e4",
   "metadata": {},
   "outputs": [],
   "source": [
    "df_all.loc[df_all['state'].isin(midwest),'region']='midwest'"
   ]
  },
  {
   "cell_type": "code",
   "execution_count": 12,
   "id": "3ab32cfa-54f9-4f4c-b43f-356c881c8fd7",
   "metadata": {},
   "outputs": [],
   "source": [
    "df_all.loc[df_all['state'].isin(south),'region']='south'"
   ]
  },
  {
   "cell_type": "code",
   "execution_count": 13,
   "id": "efbf5024-472b-47f4-95f4-e01530dc1dee",
   "metadata": {},
   "outputs": [],
   "source": [
    "df_all.loc[df_all['state'].isin(west),'region']='west'"
   ]
  },
  {
   "cell_type": "code",
   "execution_count": 14,
   "id": "f504dbc0-58a3-4390-8dd9-476c74940114",
   "metadata": {},
   "outputs": [
    {
     "data": {
      "text/plain": [
       "region\n",
       "south        9543283\n",
       "west         7332003\n",
       "midwest      6712844\n",
       "northeast    5074460\n",
       "Name: count, dtype: int64"
      ]
     },
     "execution_count": 14,
     "metadata": {},
     "output_type": "execute_result"
    }
   ],
   "source": [
    "# Check frequency of new 'region' variable\n",
    "\n",
    "df_all['region'].value_counts(dropna = False)"
   ]
  },
  {
   "cell_type": "code",
   "execution_count": 15,
   "id": "0f0cd1fe-464f-425e-8e9a-5a27cffa22ff",
   "metadata": {},
   "outputs": [
    {
     "data": {
      "text/plain": [
       "(28662590, 31)"
      ]
     },
     "execution_count": 15,
     "metadata": {},
     "output_type": "execute_result"
    }
   ],
   "source": [
    "# Display dimensions of df_all\n",
    "\n",
    "df_all.shape"
   ]
  },
  {
   "cell_type": "code",
   "execution_count": 16,
   "id": "97588c85-300c-4b16-893b-4d57d76fd65c",
   "metadata": {},
   "outputs": [
    {
     "data": {
      "text/html": [
       "<div>\n",
       "<style scoped>\n",
       "    .dataframe tbody tr th:only-of-type {\n",
       "        vertical-align: middle;\n",
       "    }\n",
       "\n",
       "    .dataframe tbody tr th {\n",
       "        vertical-align: top;\n",
       "    }\n",
       "\n",
       "    .dataframe thead th {\n",
       "        text-align: right;\n",
       "    }\n",
       "</style>\n",
       "<table border=\"1\" class=\"dataframe\">\n",
       "  <thead>\n",
       "    <tr style=\"text-align: right;\">\n",
       "      <th>spending_flag</th>\n",
       "      <th>High Spender</th>\n",
       "      <th>Low Spender</th>\n",
       "    </tr>\n",
       "    <tr>\n",
       "      <th>region</th>\n",
       "      <th></th>\n",
       "      <th></th>\n",
       "    </tr>\n",
       "  </thead>\n",
       "  <tbody>\n",
       "    <tr>\n",
       "      <th>midwest</th>\n",
       "      <td>141381</td>\n",
       "      <td>6571463</td>\n",
       "    </tr>\n",
       "    <tr>\n",
       "      <th>northeast</th>\n",
       "      <td>95825</td>\n",
       "      <td>4978635</td>\n",
       "    </tr>\n",
       "    <tr>\n",
       "      <th>south</th>\n",
       "      <td>182784</td>\n",
       "      <td>9360499</td>\n",
       "    </tr>\n",
       "    <tr>\n",
       "      <th>west</th>\n",
       "      <td>137741</td>\n",
       "      <td>7194262</td>\n",
       "    </tr>\n",
       "  </tbody>\n",
       "</table>\n",
       "</div>"
      ],
      "text/plain": [
       "spending_flag  High Spender  Low Spender\n",
       "region                                  \n",
       "midwest              141381      6571463\n",
       "northeast             95825      4978635\n",
       "south                182784      9360499\n",
       "west                 137741      7194262"
      ]
     },
     "execution_count": 16,
     "metadata": {},
     "output_type": "execute_result"
    }
   ],
   "source": [
    "# Display cross-comparison between 'region' and 'spending_flag'\n",
    "\n",
    "crosstab = pd.crosstab(df_all['region'], df_all['spending_flag'], dropna = False)\n",
    "crosstab"
   ]
  },
  {
   "cell_type": "markdown",
   "id": "22a01c47-3ee4-41ae-8d15-ad9b443af606",
   "metadata": {},
   "source": [
    "### 04. Create Exclusion flag for customers w/ <5 orders and remove them from the data - Export this sample"
   ]
  },
  {
   "cell_type": "code",
   "execution_count": 17,
   "id": "24836d7a-e06f-4e56-8325-07a1626f51a2",
   "metadata": {},
   "outputs": [],
   "source": [
    "# Create function to determine customer activity level based on 'max_order'\n",
    "# Define flag for comparison to max_order\n",
    "\n",
    "def customer_activity(row):\n",
    "    if row['max_order'] < 5:\n",
    "        return 'low'\n",
    "    else:\n",
    "        return 'high'\n",
    "\n",
    "# Apply function to max_order and create cust_activity column\n",
    "\n",
    "df_all['activity_flag'] = df_all.apply(customer_activity, axis=1)\n",
    "\n",
    "# Filter out low customer activity from dataframe\n",
    "\n",
    "df_cust_high = df_all[df_all['activity_flag'] == 'high']\n",
    "df_cust_low = df_all[df_all['activity_flag'] == 'low']"
   ]
  },
  {
   "cell_type": "code",
   "execution_count": 18,
   "id": "6751d240-f01d-4e4e-9abb-e72262a68807",
   "metadata": {},
   "outputs": [
    {
     "data": {
      "text/plain": [
       "activity_flag\n",
       "high    27695232\n",
       "low       967358\n",
       "Name: count, dtype: int64"
      ]
     },
     "execution_count": 18,
     "metadata": {},
     "output_type": "execute_result"
    }
   ],
   "source": [
    "# Check frequency of new 'activity_flag' variable\n",
    "\n",
    "df_all['activity_flag'].value_counts(dropna = False)"
   ]
  },
  {
   "cell_type": "code",
   "execution_count": 19,
   "id": "9292fe9e-5377-4ee2-ab30-f440df0faa19",
   "metadata": {},
   "outputs": [
    {
     "data": {
      "text/html": [
       "<div>\n",
       "<style scoped>\n",
       "    .dataframe tbody tr th:only-of-type {\n",
       "        vertical-align: middle;\n",
       "    }\n",
       "\n",
       "    .dataframe tbody tr th {\n",
       "        vertical-align: top;\n",
       "    }\n",
       "\n",
       "    .dataframe thead th {\n",
       "        text-align: right;\n",
       "    }\n",
       "</style>\n",
       "<table border=\"1\" class=\"dataframe\">\n",
       "  <thead>\n",
       "    <tr style=\"text-align: right;\">\n",
       "      <th></th>\n",
       "      <th>order_id</th>\n",
       "      <th>user_id</th>\n",
       "      <th>order_number</th>\n",
       "      <th>orders_day_of_week</th>\n",
       "      <th>order_hour_of_day</th>\n",
       "      <th>days_since_prior_order</th>\n",
       "      <th>product_id</th>\n",
       "      <th>add_to_cart_order</th>\n",
       "      <th>reordered</th>\n",
       "      <th>product_name</th>\n",
       "      <th>aisle_id</th>\n",
       "      <th>department_id</th>\n",
       "      <th>prices</th>\n",
       "      <th>price_range</th>\n",
       "      <th>busiest_days</th>\n",
       "      <th>busiest_period_of_day</th>\n",
       "      <th>max_order</th>\n",
       "      <th>loyalty_flag</th>\n",
       "      <th>avg_prices</th>\n",
       "      <th>spending_flag</th>\n",
       "      <th>median_days</th>\n",
       "      <th>order_freq_flag</th>\n",
       "      <th>gender</th>\n",
       "      <th>state</th>\n",
       "      <th>age</th>\n",
       "      <th>date_joined</th>\n",
       "      <th>dependents</th>\n",
       "      <th>fam_status</th>\n",
       "      <th>income</th>\n",
       "      <th>_merge</th>\n",
       "      <th>region</th>\n",
       "      <th>activity_flag</th>\n",
       "    </tr>\n",
       "  </thead>\n",
       "  <tbody>\n",
       "    <tr>\n",
       "      <th>0</th>\n",
       "      <td>2398795</td>\n",
       "      <td>1</td>\n",
       "      <td>2</td>\n",
       "      <td>3</td>\n",
       "      <td>7</td>\n",
       "      <td>15.0</td>\n",
       "      <td>196</td>\n",
       "      <td>1</td>\n",
       "      <td>1</td>\n",
       "      <td>Soda</td>\n",
       "      <td>77</td>\n",
       "      <td>7</td>\n",
       "      <td>9.0</td>\n",
       "      <td>Mid-range product</td>\n",
       "      <td>Least busy</td>\n",
       "      <td>Average orders</td>\n",
       "      <td>10</td>\n",
       "      <td>New customer</td>\n",
       "      <td>6.372222</td>\n",
       "      <td>Low Spender</td>\n",
       "      <td>20.5</td>\n",
       "      <td>Non-frequent customer</td>\n",
       "      <td>Female</td>\n",
       "      <td>Alabama</td>\n",
       "      <td>31</td>\n",
       "      <td>2/17/2019</td>\n",
       "      <td>3</td>\n",
       "      <td>married</td>\n",
       "      <td>40423</td>\n",
       "      <td>both</td>\n",
       "      <td>south</td>\n",
       "      <td>high</td>\n",
       "    </tr>\n",
       "    <tr>\n",
       "      <th>1</th>\n",
       "      <td>2398795</td>\n",
       "      <td>1</td>\n",
       "      <td>2</td>\n",
       "      <td>3</td>\n",
       "      <td>7</td>\n",
       "      <td>15.0</td>\n",
       "      <td>10258</td>\n",
       "      <td>2</td>\n",
       "      <td>0</td>\n",
       "      <td>Pistachios</td>\n",
       "      <td>117</td>\n",
       "      <td>19</td>\n",
       "      <td>3.0</td>\n",
       "      <td>Low-range product</td>\n",
       "      <td>Least busy</td>\n",
       "      <td>Average orders</td>\n",
       "      <td>10</td>\n",
       "      <td>New customer</td>\n",
       "      <td>6.372222</td>\n",
       "      <td>Low Spender</td>\n",
       "      <td>20.5</td>\n",
       "      <td>Non-frequent customer</td>\n",
       "      <td>Female</td>\n",
       "      <td>Alabama</td>\n",
       "      <td>31</td>\n",
       "      <td>2/17/2019</td>\n",
       "      <td>3</td>\n",
       "      <td>married</td>\n",
       "      <td>40423</td>\n",
       "      <td>both</td>\n",
       "      <td>south</td>\n",
       "      <td>high</td>\n",
       "    </tr>\n",
       "    <tr>\n",
       "      <th>2</th>\n",
       "      <td>2398795</td>\n",
       "      <td>1</td>\n",
       "      <td>2</td>\n",
       "      <td>3</td>\n",
       "      <td>7</td>\n",
       "      <td>15.0</td>\n",
       "      <td>12427</td>\n",
       "      <td>3</td>\n",
       "      <td>1</td>\n",
       "      <td>Original Beef Jerky</td>\n",
       "      <td>23</td>\n",
       "      <td>19</td>\n",
       "      <td>4.4</td>\n",
       "      <td>Low-range product</td>\n",
       "      <td>Least busy</td>\n",
       "      <td>Average orders</td>\n",
       "      <td>10</td>\n",
       "      <td>New customer</td>\n",
       "      <td>6.372222</td>\n",
       "      <td>Low Spender</td>\n",
       "      <td>20.5</td>\n",
       "      <td>Non-frequent customer</td>\n",
       "      <td>Female</td>\n",
       "      <td>Alabama</td>\n",
       "      <td>31</td>\n",
       "      <td>2/17/2019</td>\n",
       "      <td>3</td>\n",
       "      <td>married</td>\n",
       "      <td>40423</td>\n",
       "      <td>both</td>\n",
       "      <td>south</td>\n",
       "      <td>high</td>\n",
       "    </tr>\n",
       "    <tr>\n",
       "      <th>3</th>\n",
       "      <td>2398795</td>\n",
       "      <td>1</td>\n",
       "      <td>2</td>\n",
       "      <td>3</td>\n",
       "      <td>7</td>\n",
       "      <td>15.0</td>\n",
       "      <td>13176</td>\n",
       "      <td>4</td>\n",
       "      <td>0</td>\n",
       "      <td>Bag of Organic Bananas</td>\n",
       "      <td>24</td>\n",
       "      <td>4</td>\n",
       "      <td>10.3</td>\n",
       "      <td>Mid-range product</td>\n",
       "      <td>Least busy</td>\n",
       "      <td>Average orders</td>\n",
       "      <td>10</td>\n",
       "      <td>New customer</td>\n",
       "      <td>6.372222</td>\n",
       "      <td>Low Spender</td>\n",
       "      <td>20.5</td>\n",
       "      <td>Non-frequent customer</td>\n",
       "      <td>Female</td>\n",
       "      <td>Alabama</td>\n",
       "      <td>31</td>\n",
       "      <td>2/17/2019</td>\n",
       "      <td>3</td>\n",
       "      <td>married</td>\n",
       "      <td>40423</td>\n",
       "      <td>both</td>\n",
       "      <td>south</td>\n",
       "      <td>high</td>\n",
       "    </tr>\n",
       "    <tr>\n",
       "      <th>4</th>\n",
       "      <td>2398795</td>\n",
       "      <td>1</td>\n",
       "      <td>2</td>\n",
       "      <td>3</td>\n",
       "      <td>7</td>\n",
       "      <td>15.0</td>\n",
       "      <td>26088</td>\n",
       "      <td>5</td>\n",
       "      <td>1</td>\n",
       "      <td>Aged White Cheddar Popcorn</td>\n",
       "      <td>23</td>\n",
       "      <td>19</td>\n",
       "      <td>4.7</td>\n",
       "      <td>Low-range product</td>\n",
       "      <td>Least busy</td>\n",
       "      <td>Average orders</td>\n",
       "      <td>10</td>\n",
       "      <td>New customer</td>\n",
       "      <td>6.372222</td>\n",
       "      <td>Low Spender</td>\n",
       "      <td>20.5</td>\n",
       "      <td>Non-frequent customer</td>\n",
       "      <td>Female</td>\n",
       "      <td>Alabama</td>\n",
       "      <td>31</td>\n",
       "      <td>2/17/2019</td>\n",
       "      <td>3</td>\n",
       "      <td>married</td>\n",
       "      <td>40423</td>\n",
       "      <td>both</td>\n",
       "      <td>south</td>\n",
       "      <td>high</td>\n",
       "    </tr>\n",
       "  </tbody>\n",
       "</table>\n",
       "</div>"
      ],
      "text/plain": [
       "  order_id user_id  order_number  orders_day_of_week  order_hour_of_day  \\\n",
       "0  2398795       1             2                   3                  7   \n",
       "1  2398795       1             2                   3                  7   \n",
       "2  2398795       1             2                   3                  7   \n",
       "3  2398795       1             2                   3                  7   \n",
       "4  2398795       1             2                   3                  7   \n",
       "\n",
       "   days_since_prior_order product_id  add_to_cart_order  reordered  \\\n",
       "0                    15.0        196                  1          1   \n",
       "1                    15.0      10258                  2          0   \n",
       "2                    15.0      12427                  3          1   \n",
       "3                    15.0      13176                  4          0   \n",
       "4                    15.0      26088                  5          1   \n",
       "\n",
       "                 product_name aisle_id department_id  prices  \\\n",
       "0                        Soda       77             7     9.0   \n",
       "1                  Pistachios      117            19     3.0   \n",
       "2         Original Beef Jerky       23            19     4.4   \n",
       "3      Bag of Organic Bananas       24             4    10.3   \n",
       "4  Aged White Cheddar Popcorn       23            19     4.7   \n",
       "\n",
       "         price_range busiest_days busiest_period_of_day  max_order  \\\n",
       "0  Mid-range product   Least busy        Average orders         10   \n",
       "1  Low-range product   Least busy        Average orders         10   \n",
       "2  Low-range product   Least busy        Average orders         10   \n",
       "3  Mid-range product   Least busy        Average orders         10   \n",
       "4  Low-range product   Least busy        Average orders         10   \n",
       "\n",
       "   loyalty_flag  avg_prices spending_flag  median_days        order_freq_flag  \\\n",
       "0  New customer    6.372222   Low Spender         20.5  Non-frequent customer   \n",
       "1  New customer    6.372222   Low Spender         20.5  Non-frequent customer   \n",
       "2  New customer    6.372222   Low Spender         20.5  Non-frequent customer   \n",
       "3  New customer    6.372222   Low Spender         20.5  Non-frequent customer   \n",
       "4  New customer    6.372222   Low Spender         20.5  Non-frequent customer   \n",
       "\n",
       "   gender    state  age date_joined  dependents fam_status  income _merge  \\\n",
       "0  Female  Alabama   31   2/17/2019           3    married   40423   both   \n",
       "1  Female  Alabama   31   2/17/2019           3    married   40423   both   \n",
       "2  Female  Alabama   31   2/17/2019           3    married   40423   both   \n",
       "3  Female  Alabama   31   2/17/2019           3    married   40423   both   \n",
       "4  Female  Alabama   31   2/17/2019           3    married   40423   both   \n",
       "\n",
       "  region activity_flag  \n",
       "0  south          high  \n",
       "1  south          high  \n",
       "2  south          high  \n",
       "3  south          high  \n",
       "4  south          high  "
      ]
     },
     "execution_count": 19,
     "metadata": {},
     "output_type": "execute_result"
    }
   ],
   "source": [
    "# Check df_cust_high\n",
    "\n",
    "df_cust_high.head()"
   ]
  },
  {
   "cell_type": "code",
   "execution_count": 20,
   "id": "4632bb07-a22f-40bd-a186-6bf39d4d1d56",
   "metadata": {},
   "outputs": [
    {
     "data": {
      "text/plain": [
       "(27695232, 32)"
      ]
     },
     "execution_count": 20,
     "metadata": {},
     "output_type": "execute_result"
    }
   ],
   "source": [
    "# Display dimensions of df_cust_high\n",
    "\n",
    "df_cust_high.shape"
   ]
  },
  {
   "cell_type": "code",
   "execution_count": 21,
   "id": "599f329e-67eb-4656-92e1-7669e65d8e20",
   "metadata": {},
   "outputs": [
    {
     "data": {
      "text/plain": [
       "(967358, 32)"
      ]
     },
     "execution_count": 21,
     "metadata": {},
     "output_type": "execute_result"
    }
   ],
   "source": [
    "# Display dimensions of df_cust_low\n",
    "\n",
    "df_cust_low.shape"
   ]
  },
  {
   "cell_type": "code",
   "execution_count": 22,
   "id": "d9e152f2-e038-4319-be45-ffc89aa2b1a1",
   "metadata": {
    "scrolled": true
   },
   "outputs": [],
   "source": [
    "# Export new data file with exclusion removed (only customers with 5+ orders)\n",
    "\n",
    "df_cust_high.to_pickle(os.path.join(path, '02 Data','Prepared Data','ord_prod_cust_all.pkl'))"
   ]
  },
  {
   "cell_type": "code",
   "execution_count": 23,
   "id": "9394566e-8a31-4bdf-820d-3cca95248568",
   "metadata": {},
   "outputs": [],
   "source": [
    "# Export data file with exclusion list (only excluded customers with <5 orders)\n",
    "\n",
    "df_cust_low.to_pickle(os.path.join(path, '02 Data','Prepared Data','cust_excluded.pkl'))"
   ]
  },
  {
   "cell_type": "markdown",
   "id": "056ece31-3d99-4754-aee8-750fe7fc45c0",
   "metadata": {},
   "source": [
    "### 05. Customer Profiling"
   ]
  },
  {
   "cell_type": "code",
   "execution_count": 24,
   "id": "b3100f8c-d23e-44fc-9cdb-065e5d2045f3",
   "metadata": {},
   "outputs": [],
   "source": [
    "# set df_cust_high to working dataframe (df_all)\n",
    "\n",
    "df_all = df_cust_high"
   ]
  },
  {
   "cell_type": "code",
   "execution_count": 25,
   "id": "b9337624-5c16-446c-84c6-0700f5206951",
   "metadata": {},
   "outputs": [
    {
     "data": {
      "text/plain": [
       "(27695232, 32)"
      ]
     },
     "execution_count": 25,
     "metadata": {},
     "output_type": "execute_result"
    }
   ],
   "source": [
    "# Display dimensions of df_all\n",
    "\n",
    "df_all.shape"
   ]
  },
  {
   "cell_type": "markdown",
   "id": "ad0f872e-6f41-443a-95ca-a28cd9cbca64",
   "metadata": {},
   "source": [
    "### <ins>Profiles</ins>"
   ]
  },
  {
   "cell_type": "markdown",
   "id": "b690038d-72e1-47b8-8ae5-367d5e179b9a",
   "metadata": {},
   "source": [
    "### AGE"
   ]
  },
  {
   "cell_type": "code",
   "execution_count": 26,
   "id": "f0497c74-fc01-4b08-8f79-358da1584f9f",
   "metadata": {},
   "outputs": [
    {
     "data": {
      "text/plain": [
       "age\n",
       "48    454926\n",
       "79    453064\n",
       "31    452435\n",
       "56    451744\n",
       "64    450855\n",
       "       ...  \n",
       "60    413472\n",
       "65    408279\n",
       "66    406886\n",
       "41    400945\n",
       "25    398931\n",
       "Name: count, Length: 64, dtype: int64"
      ]
     },
     "execution_count": 26,
     "metadata": {},
     "output_type": "execute_result"
    }
   ],
   "source": [
    "# Display frequency of 'age' column\n",
    "\n",
    "df_all['age'].value_counts(dropna=False)"
   ]
  },
  {
   "cell_type": "code",
   "execution_count": 27,
   "id": "e6e99a6d-78f9-4459-8807-6003a2c9f5b8",
   "metadata": {},
   "outputs": [],
   "source": [
    "#Create age profile conditional function\n",
    "\n",
    "def age_group(row):\n",
    "\n",
    "  if row['age'] < 30:\n",
    "    return 'Young'\n",
    "  elif (row['age'] >= 30) and (row['age'] < 65):\n",
    "    return 'Adult'\n",
    "  elif row['age'] >= 65:\n",
    "    return 'Senior'\n",
    "  else: return 'Not enough data'\n",
    "\n",
    "df_all['age_group'] = df_all.apply(age_group, axis=1)"
   ]
  },
  {
   "cell_type": "code",
   "execution_count": 28,
   "id": "92774b43-417d-4b53-b9a5-b995bb96da4f",
   "metadata": {},
   "outputs": [
    {
     "data": {
      "text/plain": [
       "age_group\n",
       "Adult     15175721\n",
       "Senior     7321521\n",
       "Young      5197990\n",
       "Name: count, dtype: int64"
      ]
     },
     "execution_count": 28,
     "metadata": {},
     "output_type": "execute_result"
    }
   ],
   "source": [
    "# Check frequency of new 'age_group' variable\n",
    "\n",
    "df_all['age_group'].value_counts(dropna = False)"
   ]
  },
  {
   "cell_type": "markdown",
   "id": "dca434f9-44e2-47bb-be1d-bf80bd7314cb",
   "metadata": {},
   "source": [
    "### INCOME"
   ]
  },
  {
   "cell_type": "code",
   "execution_count": 29,
   "id": "be6d60b1-f332-4fa4-b90e-7e145f66bc93",
   "metadata": {},
   "outputs": [
    {
     "data": {
      "text/plain": [
       "count    27695232.00\n",
       "mean        99722.45\n",
       "std         43134.13\n",
       "min         25903.00\n",
       "25%         67414.00\n",
       "50%         96767.00\n",
       "75%        128143.00\n",
       "max        593901.00\n",
       "Name: income, dtype: float64"
      ]
     },
     "execution_count": 29,
     "metadata": {},
     "output_type": "execute_result"
    }
   ],
   "source": [
    "# Display range of 'income' column\n",
    "\n",
    "df_all['income'].describe().round(2)"
   ]
  },
  {
   "cell_type": "code",
   "execution_count": 30,
   "id": "008ad3da-cf66-48e6-a319-12f58831960a",
   "metadata": {},
   "outputs": [],
   "source": [
    "#Create income profile conditional function\n",
    "\n",
    "def income_group(row):\n",
    "\n",
    "  if row['income'] < 100000:\n",
    "    return 'Low Income'\n",
    "  elif (row['income'] >= 100000) and (row['income'] < 250000):\n",
    "    return 'Middle Income'\n",
    "  elif row['income'] >= 250000:\n",
    "    return 'High Income'\n",
    "  else: return 'Not enough data'\n",
    "\n",
    "df_all['income_group'] = df_all.apply(income_group, axis=1)"
   ]
  },
  {
   "cell_type": "code",
   "execution_count": 31,
   "id": "e77c4f5a-dec2-4681-8a0a-918e8fd6ad63",
   "metadata": {},
   "outputs": [
    {
     "data": {
      "text/plain": [
       "income_group\n",
       "Low Income       14978478\n",
       "Middle Income    12555580\n",
       "High Income        161174\n",
       "Name: count, dtype: int64"
      ]
     },
     "execution_count": 31,
     "metadata": {},
     "output_type": "execute_result"
    }
   ],
   "source": [
    "# Check frequency of new 'income_group' variable\n",
    "\n",
    "df_all['income_group'].value_counts(dropna = False)"
   ]
  },
  {
   "cell_type": "markdown",
   "id": "2de9899f-03e8-46cc-89db-51a32370dff5",
   "metadata": {},
   "source": [
    "### PET OWNERS"
   ]
  },
  {
   "cell_type": "code",
   "execution_count": 32,
   "id": "c87014a0-0b8b-4b08-a5af-5f52c6a3ae64",
   "metadata": {},
   "outputs": [],
   "source": [
    "# Review product departments to form profiling variable and data dictionary prep\n",
    "# Import department names list\n",
    "\n",
    "df_dept = pd.read_csv(os.path.join(path, '02 Data', 'Prepared Data', 'departments_wrangled.csv'))"
   ]
  },
  {
   "cell_type": "code",
   "execution_count": 33,
   "id": "9e77c1e8-85fb-404f-82ea-6d825a44a17c",
   "metadata": {},
   "outputs": [
    {
     "data": {
      "text/plain": [
       "{'department_id': {'department': 'department'},\n",
       " '1': {'department': 'frozen'},\n",
       " '2': {'department': 'other'},\n",
       " '3': {'department': 'bakery'},\n",
       " '4': {'department': 'produce'},\n",
       " '5': {'department': 'alcohol'},\n",
       " '6': {'department': 'international'},\n",
       " '7': {'department': 'beverages'},\n",
       " '8': {'department': 'pets'},\n",
       " '9': {'department': 'dry goods pasta'},\n",
       " '10': {'department': 'bulk'},\n",
       " '11': {'department': 'personal care'},\n",
       " '12': {'department': 'meat seafood'},\n",
       " '13': {'department': 'pantry'},\n",
       " '14': {'department': 'breakfast'},\n",
       " '15': {'department': 'canned goods'},\n",
       " '16': {'department': 'dairy eggs'},\n",
       " '17': {'department': 'household'},\n",
       " '18': {'department': 'babies'},\n",
       " '19': {'department': 'snacks'},\n",
       " '20': {'department': 'deli'},\n",
       " '21': {'department': 'missing'}}"
      ]
     },
     "execution_count": 33,
     "metadata": {},
     "output_type": "execute_result"
    }
   ],
   "source": [
    "# Create data dictionary\n",
    "\n",
    "df_dept.set_index('department_id', inplace=True)\n",
    "data_dict = df_dept.to_dict('index')\n",
    "\n",
    "data_dict"
   ]
  },
  {
   "cell_type": "code",
   "execution_count": 34,
   "id": "ca271e2d-dcfd-4d1c-91c8-fa2f07a97a08",
   "metadata": {},
   "outputs": [
    {
     "data": {
      "text/plain": [
       "82882"
      ]
     },
     "execution_count": 34,
     "metadata": {},
     "output_type": "execute_result"
    }
   ],
   "source": [
    "# Display the count/frequency for the pets (8) value under department_id\n",
    "\n",
    "df_all['department_id'].value_counts()['8']"
   ]
  },
  {
   "cell_type": "code",
   "execution_count": 35,
   "id": "9d89331f-332f-4e4d-81a7-417631d9f06a",
   "metadata": {},
   "outputs": [
    {
     "data": {
      "text/html": [
       "<div>\n",
       "<style scoped>\n",
       "    .dataframe tbody tr th:only-of-type {\n",
       "        vertical-align: middle;\n",
       "    }\n",
       "\n",
       "    .dataframe tbody tr th {\n",
       "        vertical-align: top;\n",
       "    }\n",
       "\n",
       "    .dataframe thead th {\n",
       "        text-align: right;\n",
       "    }\n",
       "</style>\n",
       "<table border=\"1\" class=\"dataframe\">\n",
       "  <thead>\n",
       "    <tr style=\"text-align: right;\">\n",
       "      <th></th>\n",
       "      <th>order_id</th>\n",
       "      <th>user_id</th>\n",
       "      <th>order_number</th>\n",
       "      <th>orders_day_of_week</th>\n",
       "      <th>order_hour_of_day</th>\n",
       "      <th>days_since_prior_order</th>\n",
       "      <th>product_id</th>\n",
       "      <th>add_to_cart_order</th>\n",
       "      <th>reordered</th>\n",
       "      <th>product_name</th>\n",
       "      <th>aisle_id</th>\n",
       "      <th>department_id</th>\n",
       "      <th>prices</th>\n",
       "      <th>price_range</th>\n",
       "      <th>busiest_days</th>\n",
       "      <th>busiest_period_of_day</th>\n",
       "      <th>max_order</th>\n",
       "      <th>loyalty_flag</th>\n",
       "      <th>avg_prices</th>\n",
       "      <th>spending_flag</th>\n",
       "      <th>median_days</th>\n",
       "      <th>order_freq_flag</th>\n",
       "      <th>gender</th>\n",
       "      <th>state</th>\n",
       "      <th>age</th>\n",
       "      <th>date_joined</th>\n",
       "      <th>dependents</th>\n",
       "      <th>fam_status</th>\n",
       "      <th>income</th>\n",
       "      <th>_merge</th>\n",
       "      <th>region</th>\n",
       "      <th>activity_flag</th>\n",
       "      <th>age_group</th>\n",
       "      <th>income_group</th>\n",
       "    </tr>\n",
       "  </thead>\n",
       "  <tbody>\n",
       "    <tr>\n",
       "      <th>496</th>\n",
       "      <td>3120740</td>\n",
       "      <td>7</td>\n",
       "      <td>15</td>\n",
       "      <td>3</td>\n",
       "      <td>16</td>\n",
       "      <td>2.0</td>\n",
       "      <td>29602</td>\n",
       "      <td>7</td>\n",
       "      <td>0</td>\n",
       "      <td>Ear Candy (Cow Ears) Dog Chews</td>\n",
       "      <td>40</td>\n",
       "      <td>8</td>\n",
       "      <td>9.8</td>\n",
       "      <td>Mid-range product</td>\n",
       "      <td>Least busy</td>\n",
       "      <td>Most orders</td>\n",
       "      <td>20</td>\n",
       "      <td>Regular customer</td>\n",
       "      <td>7.521649</td>\n",
       "      <td>Low Spender</td>\n",
       "      <td>9.0</td>\n",
       "      <td>Frequent customer</td>\n",
       "      <td>Male</td>\n",
       "      <td>Connecticut</td>\n",
       "      <td>39</td>\n",
       "      <td>4/1/2017</td>\n",
       "      <td>2</td>\n",
       "      <td>married</td>\n",
       "      <td>89095</td>\n",
       "      <td>both</td>\n",
       "      <td>northeast</td>\n",
       "      <td>high</td>\n",
       "      <td>Adult</td>\n",
       "      <td>Low Income</td>\n",
       "    </tr>\n",
       "    <tr>\n",
       "      <th>852</th>\n",
       "      <td>1247527</td>\n",
       "      <td>12</td>\n",
       "      <td>2</td>\n",
       "      <td>5</td>\n",
       "      <td>9</td>\n",
       "      <td>30.0</td>\n",
       "      <td>10863</td>\n",
       "      <td>2</td>\n",
       "      <td>0</td>\n",
       "      <td>Grain Free Turkey &amp; Salmon Formula Cat Food</td>\n",
       "      <td>41</td>\n",
       "      <td>8</td>\n",
       "      <td>10.1</td>\n",
       "      <td>Mid-range product</td>\n",
       "      <td>Regularly busy</td>\n",
       "      <td>Most orders</td>\n",
       "      <td>5</td>\n",
       "      <td>New customer</td>\n",
       "      <td>8.208451</td>\n",
       "      <td>Low Spender</td>\n",
       "      <td>30.0</td>\n",
       "      <td>Non-frequent customer</td>\n",
       "      <td>Male</td>\n",
       "      <td>Hawaii</td>\n",
       "      <td>46</td>\n",
       "      <td>10/16/2017</td>\n",
       "      <td>0</td>\n",
       "      <td>single</td>\n",
       "      <td>167293</td>\n",
       "      <td>both</td>\n",
       "      <td>west</td>\n",
       "      <td>high</td>\n",
       "      <td>Adult</td>\n",
       "      <td>Middle Income</td>\n",
       "    </tr>\n",
       "    <tr>\n",
       "      <th>853</th>\n",
       "      <td>1247527</td>\n",
       "      <td>12</td>\n",
       "      <td>2</td>\n",
       "      <td>5</td>\n",
       "      <td>9</td>\n",
       "      <td>30.0</td>\n",
       "      <td>17766</td>\n",
       "      <td>3</td>\n",
       "      <td>0</td>\n",
       "      <td>Grain Free Turkey Formula Cat Food</td>\n",
       "      <td>41</td>\n",
       "      <td>8</td>\n",
       "      <td>11.5</td>\n",
       "      <td>Mid-range product</td>\n",
       "      <td>Regularly busy</td>\n",
       "      <td>Most orders</td>\n",
       "      <td>5</td>\n",
       "      <td>New customer</td>\n",
       "      <td>8.208451</td>\n",
       "      <td>Low Spender</td>\n",
       "      <td>30.0</td>\n",
       "      <td>Non-frequent customer</td>\n",
       "      <td>Male</td>\n",
       "      <td>Hawaii</td>\n",
       "      <td>46</td>\n",
       "      <td>10/16/2017</td>\n",
       "      <td>0</td>\n",
       "      <td>single</td>\n",
       "      <td>167293</td>\n",
       "      <td>both</td>\n",
       "      <td>west</td>\n",
       "      <td>high</td>\n",
       "      <td>Adult</td>\n",
       "      <td>Middle Income</td>\n",
       "    </tr>\n",
       "    <tr>\n",
       "      <th>854</th>\n",
       "      <td>1247527</td>\n",
       "      <td>12</td>\n",
       "      <td>2</td>\n",
       "      <td>5</td>\n",
       "      <td>9</td>\n",
       "      <td>30.0</td>\n",
       "      <td>7076</td>\n",
       "      <td>4</td>\n",
       "      <td>0</td>\n",
       "      <td>Grain Free Chicken Formula Cat Food</td>\n",
       "      <td>41</td>\n",
       "      <td>8</td>\n",
       "      <td>5.8</td>\n",
       "      <td>Mid-range product</td>\n",
       "      <td>Regularly busy</td>\n",
       "      <td>Most orders</td>\n",
       "      <td>5</td>\n",
       "      <td>New customer</td>\n",
       "      <td>8.208451</td>\n",
       "      <td>Low Spender</td>\n",
       "      <td>30.0</td>\n",
       "      <td>Non-frequent customer</td>\n",
       "      <td>Male</td>\n",
       "      <td>Hawaii</td>\n",
       "      <td>46</td>\n",
       "      <td>10/16/2017</td>\n",
       "      <td>0</td>\n",
       "      <td>single</td>\n",
       "      <td>167293</td>\n",
       "      <td>both</td>\n",
       "      <td>west</td>\n",
       "      <td>high</td>\n",
       "      <td>Adult</td>\n",
       "      <td>Middle Income</td>\n",
       "    </tr>\n",
       "    <tr>\n",
       "      <th>855</th>\n",
       "      <td>1247527</td>\n",
       "      <td>12</td>\n",
       "      <td>2</td>\n",
       "      <td>5</td>\n",
       "      <td>9</td>\n",
       "      <td>30.0</td>\n",
       "      <td>28134</td>\n",
       "      <td>5</td>\n",
       "      <td>0</td>\n",
       "      <td>Grain Free Turkey Canned Cat Food</td>\n",
       "      <td>41</td>\n",
       "      <td>8</td>\n",
       "      <td>8.5</td>\n",
       "      <td>Mid-range product</td>\n",
       "      <td>Regularly busy</td>\n",
       "      <td>Most orders</td>\n",
       "      <td>5</td>\n",
       "      <td>New customer</td>\n",
       "      <td>8.208451</td>\n",
       "      <td>Low Spender</td>\n",
       "      <td>30.0</td>\n",
       "      <td>Non-frequent customer</td>\n",
       "      <td>Male</td>\n",
       "      <td>Hawaii</td>\n",
       "      <td>46</td>\n",
       "      <td>10/16/2017</td>\n",
       "      <td>0</td>\n",
       "      <td>single</td>\n",
       "      <td>167293</td>\n",
       "      <td>both</td>\n",
       "      <td>west</td>\n",
       "      <td>high</td>\n",
       "      <td>Adult</td>\n",
       "      <td>Middle Income</td>\n",
       "    </tr>\n",
       "  </tbody>\n",
       "</table>\n",
       "</div>"
      ],
      "text/plain": [
       "    order_id user_id  order_number  orders_day_of_week  order_hour_of_day  \\\n",
       "496  3120740       7            15                   3                 16   \n",
       "852  1247527      12             2                   5                  9   \n",
       "853  1247527      12             2                   5                  9   \n",
       "854  1247527      12             2                   5                  9   \n",
       "855  1247527      12             2                   5                  9   \n",
       "\n",
       "     days_since_prior_order product_id  add_to_cart_order  reordered  \\\n",
       "496                     2.0      29602                  7          0   \n",
       "852                    30.0      10863                  2          0   \n",
       "853                    30.0      17766                  3          0   \n",
       "854                    30.0       7076                  4          0   \n",
       "855                    30.0      28134                  5          0   \n",
       "\n",
       "                                    product_name aisle_id department_id  \\\n",
       "496               Ear Candy (Cow Ears) Dog Chews       40             8   \n",
       "852  Grain Free Turkey & Salmon Formula Cat Food       41             8   \n",
       "853           Grain Free Turkey Formula Cat Food       41             8   \n",
       "854          Grain Free Chicken Formula Cat Food       41             8   \n",
       "855            Grain Free Turkey Canned Cat Food       41             8   \n",
       "\n",
       "     prices        price_range    busiest_days busiest_period_of_day  \\\n",
       "496     9.8  Mid-range product      Least busy           Most orders   \n",
       "852    10.1  Mid-range product  Regularly busy           Most orders   \n",
       "853    11.5  Mid-range product  Regularly busy           Most orders   \n",
       "854     5.8  Mid-range product  Regularly busy           Most orders   \n",
       "855     8.5  Mid-range product  Regularly busy           Most orders   \n",
       "\n",
       "     max_order      loyalty_flag  avg_prices spending_flag  median_days  \\\n",
       "496         20  Regular customer    7.521649   Low Spender          9.0   \n",
       "852          5      New customer    8.208451   Low Spender         30.0   \n",
       "853          5      New customer    8.208451   Low Spender         30.0   \n",
       "854          5      New customer    8.208451   Low Spender         30.0   \n",
       "855          5      New customer    8.208451   Low Spender         30.0   \n",
       "\n",
       "           order_freq_flag gender        state  age date_joined  dependents  \\\n",
       "496      Frequent customer   Male  Connecticut   39    4/1/2017           2   \n",
       "852  Non-frequent customer   Male       Hawaii   46  10/16/2017           0   \n",
       "853  Non-frequent customer   Male       Hawaii   46  10/16/2017           0   \n",
       "854  Non-frequent customer   Male       Hawaii   46  10/16/2017           0   \n",
       "855  Non-frequent customer   Male       Hawaii   46  10/16/2017           0   \n",
       "\n",
       "    fam_status  income _merge     region activity_flag age_group  \\\n",
       "496    married   89095   both  northeast          high     Adult   \n",
       "852     single  167293   both       west          high     Adult   \n",
       "853     single  167293   both       west          high     Adult   \n",
       "854     single  167293   both       west          high     Adult   \n",
       "855     single  167293   both       west          high     Adult   \n",
       "\n",
       "      income_group  \n",
       "496     Low Income  \n",
       "852  Middle Income  \n",
       "853  Middle Income  \n",
       "854  Middle Income  \n",
       "855  Middle Income  "
      ]
     },
     "execution_count": 35,
     "metadata": {},
     "output_type": "execute_result"
    }
   ],
   "source": [
    "# Create filtered df_pets subset\n",
    "df_pets = df_all.loc[df_all['department_id'] == '8']\n",
    "\n",
    "# Check df_pets\n",
    "df_pets.head()"
   ]
  },
  {
   "cell_type": "code",
   "execution_count": 36,
   "id": "a01dc4ce-516e-4a11-b20c-49a2866714db",
   "metadata": {},
   "outputs": [
    {
     "data": {
      "text/plain": [
       "(82882, 34)"
      ]
     },
     "execution_count": 36,
     "metadata": {},
     "output_type": "execute_result"
    }
   ],
   "source": [
    "# Display dimensions of df_pets\n",
    "\n",
    "df_pets.shape"
   ]
  },
  {
   "cell_type": "markdown",
   "id": "1cffcb13-21ff-4175-8652-b5a33d8871e8",
   "metadata": {},
   "source": [
    "### No. DEPENDENTS"
   ]
  },
  {
   "cell_type": "code",
   "execution_count": 37,
   "id": "48ddfc51-0b94-428d-ad0f-4ae653768f48",
   "metadata": {},
   "outputs": [
    {
     "data": {
      "text/plain": [
       "dependents\n",
       "3    6944652\n",
       "2    6924053\n",
       "0    6919165\n",
       "1    6907362\n",
       "Name: count, dtype: int64"
      ]
     },
     "execution_count": 37,
     "metadata": {},
     "output_type": "execute_result"
    }
   ],
   "source": [
    "# Display frequency of 'dependents' column\n",
    "\n",
    "df_all['dependents'].value_counts(dropna=False)"
   ]
  },
  {
   "cell_type": "code",
   "execution_count": 38,
   "id": "eeef5fee-fa0b-481c-8931-6fed06ffd99d",
   "metadata": {},
   "outputs": [],
   "source": [
    "# Create dependents profile conditional function\n",
    "\n",
    "def dependents_group(row):\n",
    "\n",
    "  if row['dependents'] == 0:\n",
    "    return 'None'\n",
    "  elif (row['dependents'] >= 1) and (row['dependents'] < 3):\n",
    "    return 'Average'\n",
    "  elif row['dependents'] >= 3:\n",
    "    return 'Many'\n",
    "  else: return 'Not enough data'\n",
    "\n",
    "df_all['dependents_group'] = df_all.apply(dependents_group, axis=1)"
   ]
  },
  {
   "cell_type": "code",
   "execution_count": 39,
   "id": "84edcd8d-1b53-42c5-a872-697411c115f7",
   "metadata": {},
   "outputs": [
    {
     "data": {
      "text/plain": [
       "dependents_group\n",
       "Average    13831415\n",
       "Many        6944652\n",
       "None        6919165\n",
       "Name: count, dtype: int64"
      ]
     },
     "execution_count": 39,
     "metadata": {},
     "output_type": "execute_result"
    }
   ],
   "source": [
    "# Check frequency of new 'dependents_group' variable\n",
    "\n",
    "df_all['dependents_group'].value_counts(dropna = False)"
   ]
  },
  {
   "cell_type": "markdown",
   "id": "096def81-dec8-4823-af9a-b9cc95c7d1e2",
   "metadata": {},
   "source": [
    "### 06. Aggregate max, min, and mean for usage frequency & expenditure / Create Visualization"
   ]
  },
  {
   "cell_type": "markdown",
   "id": "5e6aa5a2-52cf-44ca-b3e2-faa39bd89c9c",
   "metadata": {},
   "source": [
    "### AGE"
   ]
  },
  {
   "cell_type": "code",
   "execution_count": 40,
   "id": "03b74ed6-a236-42b6-b164-1822ad31e7af",
   "metadata": {},
   "outputs": [
    {
     "name": "stdout",
     "output_type": "stream",
     "text": [
      "          median_days           \n",
      "                 mean  min   max\n",
      "age_group                       \n",
      "Adult        9.769558  0.0  30.0\n",
      "Senior       9.720894  0.0  30.0\n",
      "Young        9.749863  0.0  30.0\n"
     ]
    }
   ],
   "source": [
    "# Display aggregated mean, min, max for usage frequency median_days\n",
    "\n",
    "age_agg_days_data = df_all.groupby('age_group').agg({'median_days':['mean', 'min', 'max']})\n",
    "print(age_agg_days_data)"
   ]
  },
  {
   "cell_type": "code",
   "execution_count": 41,
   "id": "f27a707d-6744-429f-8a99-11e735a44801",
   "metadata": {},
   "outputs": [
    {
     "data": {
      "text/html": [
       "<div>\n",
       "<style scoped>\n",
       "    .dataframe tbody tr th:only-of-type {\n",
       "        vertical-align: middle;\n",
       "    }\n",
       "\n",
       "    .dataframe tbody tr th {\n",
       "        vertical-align: top;\n",
       "    }\n",
       "\n",
       "    .dataframe thead tr th {\n",
       "        text-align: left;\n",
       "    }\n",
       "\n",
       "    .dataframe thead tr:last-of-type th {\n",
       "        text-align: right;\n",
       "    }\n",
       "</style>\n",
       "<table border=\"1\" class=\"dataframe\">\n",
       "  <thead>\n",
       "    <tr>\n",
       "      <th></th>\n",
       "      <th colspan=\"3\" halign=\"left\">prices</th>\n",
       "    </tr>\n",
       "    <tr>\n",
       "      <th></th>\n",
       "      <th>mean</th>\n",
       "      <th>min</th>\n",
       "      <th>max</th>\n",
       "    </tr>\n",
       "    <tr>\n",
       "      <th>age_group</th>\n",
       "      <th></th>\n",
       "      <th></th>\n",
       "      <th></th>\n",
       "    </tr>\n",
       "  </thead>\n",
       "  <tbody>\n",
       "    <tr>\n",
       "      <th>Adult</th>\n",
       "      <td>7.791704</td>\n",
       "      <td>1.0</td>\n",
       "      <td>25.0</td>\n",
       "    </tr>\n",
       "    <tr>\n",
       "      <th>Senior</th>\n",
       "      <td>7.798088</td>\n",
       "      <td>1.0</td>\n",
       "      <td>25.0</td>\n",
       "    </tr>\n",
       "    <tr>\n",
       "      <th>Young</th>\n",
       "      <td>7.785275</td>\n",
       "      <td>1.0</td>\n",
       "      <td>25.0</td>\n",
       "    </tr>\n",
       "  </tbody>\n",
       "</table>\n",
       "</div>"
      ],
      "text/plain": [
       "             prices           \n",
       "               mean  min   max\n",
       "age_group                     \n",
       "Adult      7.791704  1.0  25.0\n",
       "Senior     7.798088  1.0  25.0\n",
       "Young      7.785275  1.0  25.0"
      ]
     },
     "execution_count": 41,
     "metadata": {},
     "output_type": "execute_result"
    }
   ],
   "source": [
    "# Display aggregated mean, min, max for expenditure\n",
    "\n",
    "df_all.groupby('age_group').agg({'prices':['mean', 'min', 'max']})"
   ]
  },
  {
   "cell_type": "code",
   "execution_count": 42,
   "id": "d06eab3c-a1b5-4d53-afe2-9125f43fc7de",
   "metadata": {},
   "outputs": [
    {
     "data": {
      "image/png": "[encoded data removed]",
      "text/plain": [
       "<Figure size 640x480 with 2 Axes>"
      ]
     },
     "metadata": {},
     "output_type": "display_data"
    }
   ],
   "source": [
    "# Create visualization chart\n",
    "# Plot distribution\n",
    "age_groups = age_agg_days_data.index.tolist()\n",
    "means = age_agg_days_data['median_days']['mean'].tolist()\n",
    "min_values = age_agg_days_data['median_days']['min'].tolist()\n",
    "max_values = age_agg_days_data['median_days']['max'].tolist()\n",
    "\n",
    "fig, ax1 = plt.subplots()\n",
    "\n",
    "# Bar/Line chart for customer order counts and summary stats\n",
    "order_counts = df_all['age_group'].value_counts().loc[age_groups].tolist()\n",
    "ax1.bar(age_groups, order_counts, color=['teal', 'yellowgreen', 'darkorange'], alpha=0.6, label='Order Counts')\n",
    "ax1.set_xlabel('Age Groups')\n",
    "ax1.set_ylabel('Number of Customers', color='black')\n",
    "ax1.tick_params(axis='y', labelcolor='black')\n",
    "\n",
    "# Line plot for mean, min, and max prices\n",
    "ax2 = ax1.twinx()\n",
    "ax2.plot(age_groups, means, color='red', marker='o', label='Mean Days')\n",
    "ax2.plot(age_groups, max_values, color='blueviolet', marker='o', label='Max Days')\n",
    "ax2.plot(age_groups, min_values, color='gold', marker='o', label='Min Days')\n",
    "ax2.set_ylabel('Days Since Last Order', color='black')\n",
    "ax2.tick_params(axis='y', labelcolor='black')\n",
    "  \n",
    "# Adding legends\n",
    "fig.legend(loc=\"upper right\", bbox_to_anchor=(1,1), bbox_transform=ax1.transAxes)\n",
    "\n",
    "plt.title('Distribution of Days Since Last Order by Age Group with Summary Statistics')\n",
    "\n",
    "# Export bar chart image\n",
    "plt.savefig(os.path.join(path,'04 Analysis','Visualizations','bar_line_age_days.png'))\n",
    "\n",
    "plt.show()\n"
   ]
  },
  {
   "cell_type": "markdown",
   "id": "69564823-8532-4f1a-be75-9da6b7561ec1",
   "metadata": {},
   "source": [
    "### INCOME"
   ]
  },
  {
   "cell_type": "code",
   "execution_count": 43,
   "id": "36344dcc-7558-497b-b200-3b5c893f397b",
   "metadata": {},
   "outputs": [
    {
     "data": {
      "text/html": [
       "<div>\n",
       "<style scoped>\n",
       "    .dataframe tbody tr th:only-of-type {\n",
       "        vertical-align: middle;\n",
       "    }\n",
       "\n",
       "    .dataframe tbody tr th {\n",
       "        vertical-align: top;\n",
       "    }\n",
       "\n",
       "    .dataframe thead tr th {\n",
       "        text-align: left;\n",
       "    }\n",
       "\n",
       "    .dataframe thead tr:last-of-type th {\n",
       "        text-align: right;\n",
       "    }\n",
       "</style>\n",
       "<table border=\"1\" class=\"dataframe\">\n",
       "  <thead>\n",
       "    <tr>\n",
       "      <th></th>\n",
       "      <th colspan=\"3\" halign=\"left\">median_days</th>\n",
       "    </tr>\n",
       "    <tr>\n",
       "      <th></th>\n",
       "      <th>mean</th>\n",
       "      <th>min</th>\n",
       "      <th>max</th>\n",
       "    </tr>\n",
       "    <tr>\n",
       "      <th>income_group</th>\n",
       "      <th></th>\n",
       "      <th></th>\n",
       "      <th></th>\n",
       "    </tr>\n",
       "  </thead>\n",
       "  <tbody>\n",
       "    <tr>\n",
       "      <th>High Income</th>\n",
       "      <td>9.035232</td>\n",
       "      <td>1.0</td>\n",
       "      <td>30.0</td>\n",
       "    </tr>\n",
       "    <tr>\n",
       "      <th>Low Income</th>\n",
       "      <td>9.818749</td>\n",
       "      <td>0.0</td>\n",
       "      <td>30.0</td>\n",
       "    </tr>\n",
       "    <tr>\n",
       "      <th>Middle Income</th>\n",
       "      <td>9.683769</td>\n",
       "      <td>0.0</td>\n",
       "      <td>30.0</td>\n",
       "    </tr>\n",
       "  </tbody>\n",
       "</table>\n",
       "</div>"
      ],
      "text/plain": [
       "              median_days           \n",
       "                     mean  min   max\n",
       "income_group                        \n",
       "High Income      9.035232  1.0  30.0\n",
       "Low Income       9.818749  0.0  30.0\n",
       "Middle Income    9.683769  0.0  30.0"
      ]
     },
     "execution_count": 43,
     "metadata": {},
     "output_type": "execute_result"
    }
   ],
   "source": [
    "# Display aggregated mean, min, max for usage frequency median_days\n",
    "\n",
    "df_all.groupby('income_group').agg({'median_days':['mean', 'min', 'max']})"
   ]
  },
  {
   "cell_type": "code",
   "execution_count": 45,
   "id": "c93226f6-74c7-4d26-b60e-722aee45e57a",
   "metadata": {},
   "outputs": [
    {
     "name": "stdout",
     "output_type": "stream",
     "text": [
      "                 prices           \n",
      "                   mean  min   max\n",
      "income_group                      \n",
      "High Income    7.776471  1.0  25.0\n",
      "Low Income     7.655770  1.0  25.0\n",
      "Middle Income  7.955126  1.0  25.0\n"
     ]
    }
   ],
   "source": [
    "# Display aggregated mean, min, max for expenditure\n",
    "\n",
    "inc_agg_price_data = df_all.groupby('income_group').agg({'prices':['mean', 'min', 'max']})\n",
    "print(inc_agg_price_data)"
   ]
  },
  {
   "cell_type": "code",
   "execution_count": 46,
   "id": "459e3d5d-29a1-4fb4-94e9-9ca56cf859e6",
   "metadata": {},
   "outputs": [
    {
     "data": {
      "image/png": "[encoded data removed]",
      "text/plain": [
       "<Figure size 640x480 with 2 Axes>"
      ]
     },
     "metadata": {},
     "output_type": "display_data"
    }
   ],
   "source": [
    "# Create visualization chart\n",
    "# Plot distribution\n",
    "income_groups = inc_agg_price_data.index.tolist()\n",
    "means = inc_agg_price_data['prices']['mean'].tolist()\n",
    "min_values = inc_agg_price_data['prices']['min'].tolist()\n",
    "max_values = inc_agg_price_data['prices']['max'].tolist()\n",
    "\n",
    "fig, ax1 = plt.subplots()\n",
    "\n",
    "# Bar/Line chart for customer order counts and summary stats\n",
    "order_counts = df_all['income_group'].value_counts().loc[income_groups].tolist()\n",
    "ax1.bar(income_groups, order_counts, color=['magenta', 'lawngreen', 'aqua'], alpha=0.6, label='Order Counts')\n",
    "ax1.set_xlabel('Income Groups')\n",
    "ax1.set_ylabel('Number of Customers', color='black')\n",
    "ax1.tick_params(axis='y', labelcolor='black')\n",
    "\n",
    "# Line plot for mean, min, and max prices\n",
    "ax2 = ax1.twinx()\n",
    "ax2.plot(income_groups, means, color='red', marker='o', label='Mean Price')\n",
    "ax2.plot(income_groups, max_values, color='blueviolet', marker='o', label='Max Price')\n",
    "ax2.plot(income_groups, min_values, color='gold', marker='o', label='Min Price')\n",
    "ax2.set_ylabel('Price', color='black')\n",
    "ax2.tick_params(axis='y', labelcolor='black')\n",
    "  \n",
    "# Adding legends\n",
    "fig.legend(loc=\"upper right\", bbox_to_anchor=(1,1), bbox_transform=ax1.transAxes)\n",
    "\n",
    "plt.title('Distribution of Prices by Income Group with Summary Statistics')\n",
    "\n",
    "# Export bar chart image\n",
    "plt.savefig(os.path.join(path,'04 Analysis','Visualizations','bar_line_income_price.png'))\n",
    "\n",
    "plt.show()\n"
   ]
  },
  {
   "cell_type": "markdown",
   "id": "d3275e30-ac73-4ee3-a5e6-5981f7ef6aa3",
   "metadata": {},
   "source": [
    "### PET OWNERS"
   ]
  },
  {
   "cell_type": "code",
   "execution_count": 47,
   "id": "f1cc6697-0d86-428a-b73b-83d9c636f2c1",
   "metadata": {},
   "outputs": [
    {
     "data": {
      "text/plain": [
       "mean    11.580717\n",
       "min      0.000000\n",
       "max     30.000000\n",
       "Name: days_since_prior_order, dtype: float64"
      ]
     },
     "execution_count": 47,
     "metadata": {},
     "output_type": "execute_result"
    }
   ],
   "source": [
    "# Display aggregated mean, min, max for usage frequency median_days\n",
    "\n",
    "df_pets['days_since_prior_order'].agg(['mean', 'min', 'max'])"
   ]
  },
  {
   "cell_type": "code",
   "execution_count": 48,
   "id": "3bb4527a-e709-4fb7-ae58-4760676daed6",
   "metadata": {},
   "outputs": [
    {
     "name": "stdout",
     "output_type": "stream",
     "text": [
      "mean     7.880623\n",
      "min      1.000000\n",
      "max     15.000000\n",
      "Name: prices, dtype: float64\n"
     ]
    }
   ],
   "source": [
    "# Display aggregated mean, min, max for expenditure\n",
    "\n",
    "pets_agg_price_data = df_pets['prices'].agg(['mean', 'min', 'max'])\n",
    "print(pets_agg_price_data)"
   ]
  },
  {
   "cell_type": "code",
   "execution_count": 49,
   "id": "46c996c4-446e-4c97-8b24-1820cfb71960",
   "metadata": {},
   "outputs": [
    {
     "data": {
      "image/png": "[encoded data removed]",
      "text/plain": [
       "<Figure size 1000x600 with 1 Axes>"
      ]
     },
     "metadata": {},
     "output_type": "display_data"
    }
   ],
   "source": [
    "# Create visualization chart\n",
    "\n",
    "summary_stats = pd.Series({'mean': 7.880623, 'min': 1.0, 'max': 15.0}, name='prices')\n",
    "\n",
    "plt.figure(figsize=(10, 6))\n",
    "summary_stats.plot(kind='bar', color=['red', 'green', 'blue'])\n",
    "plt.title('Summary Statistics of Prices for Pet Owners')\n",
    "plt.xlabel('Summary')\n",
    "plt.ylabel('Prices')\n",
    "plt.ylim(0, 16)  # Set y-axis limits to give some space above the max value\n",
    "plt.xticks(rotation=0)\n",
    "plt.grid(axis='y', linestyle='--', alpha=0.7)\n",
    "\n",
    "# Adding data labels on the bars\n",
    "for index, value in enumerate(summary_stats):\n",
    "    plt.text(index, value + 0.3, round(value, 2), ha='center', va='bottom', color='black', fontweight='bold')\n",
    "\n",
    "# Export bar chart image\n",
    "plt.savefig(os.path.join(path,'04 Analysis','Visualizations','bar_pets_price.png'))\n",
    "\n",
    "plt.show()\n"
   ]
  },
  {
   "cell_type": "markdown",
   "id": "f5c0c921-aca7-4d46-8ebf-81b23b76e3f7",
   "metadata": {},
   "source": [
    "### No. DEPENDENTS"
   ]
  },
  {
   "cell_type": "code",
   "execution_count": 50,
   "id": "675f1f53-a546-452b-b2f4-aca4bc097bf0",
   "metadata": {},
   "outputs": [
    {
     "name": "stdout",
     "output_type": "stream",
     "text": [
      "                 median_days           \n",
      "                        mean  min   max\n",
      "dependents_group                       \n",
      "Average             9.764503  0.0  30.0\n",
      "Many                9.754568  0.0  30.0\n",
      "None                9.728417  0.0  30.0\n"
     ]
    }
   ],
   "source": [
    "# Display aggregated mean, min, max for usage frequency median_days\n",
    "\n",
    "dep_agg_days_data = df_all.groupby('dependents_group').agg({'median_days':['mean', 'min', 'max']})\n",
    "print(dep_agg_days_data)"
   ]
  },
  {
   "cell_type": "code",
   "execution_count": 51,
   "id": "27a7759e-bc9d-4d5d-8233-3fd0e4e8728d",
   "metadata": {},
   "outputs": [
    {
     "data": {
      "text/html": [
       "<div>\n",
       "<style scoped>\n",
       "    .dataframe tbody tr th:only-of-type {\n",
       "        vertical-align: middle;\n",
       "    }\n",
       "\n",
       "    .dataframe tbody tr th {\n",
       "        vertical-align: top;\n",
       "    }\n",
       "\n",
       "    .dataframe thead tr th {\n",
       "        text-align: left;\n",
       "    }\n",
       "\n",
       "    .dataframe thead tr:last-of-type th {\n",
       "        text-align: right;\n",
       "    }\n",
       "</style>\n",
       "<table border=\"1\" class=\"dataframe\">\n",
       "  <thead>\n",
       "    <tr>\n",
       "      <th></th>\n",
       "      <th colspan=\"3\" halign=\"left\">prices</th>\n",
       "    </tr>\n",
       "    <tr>\n",
       "      <th></th>\n",
       "      <th>mean</th>\n",
       "      <th>min</th>\n",
       "      <th>max</th>\n",
       "    </tr>\n",
       "    <tr>\n",
       "      <th>dependents_group</th>\n",
       "      <th></th>\n",
       "      <th></th>\n",
       "      <th></th>\n",
       "    </tr>\n",
       "  </thead>\n",
       "  <tbody>\n",
       "    <tr>\n",
       "      <th>Average</th>\n",
       "      <td>7.792009</td>\n",
       "      <td>1.0</td>\n",
       "      <td>25.0</td>\n",
       "    </tr>\n",
       "    <tr>\n",
       "      <th>Many</th>\n",
       "      <td>7.794117</td>\n",
       "      <td>1.0</td>\n",
       "      <td>25.0</td>\n",
       "    </tr>\n",
       "    <tr>\n",
       "      <th>None</th>\n",
       "      <td>7.790598</td>\n",
       "      <td>1.0</td>\n",
       "      <td>25.0</td>\n",
       "    </tr>\n",
       "  </tbody>\n",
       "</table>\n",
       "</div>"
      ],
      "text/plain": [
       "                    prices           \n",
       "                      mean  min   max\n",
       "dependents_group                     \n",
       "Average           7.792009  1.0  25.0\n",
       "Many              7.794117  1.0  25.0\n",
       "None              7.790598  1.0  25.0"
      ]
     },
     "execution_count": 51,
     "metadata": {},
     "output_type": "execute_result"
    }
   ],
   "source": [
    "# Display aggregated mean, min, max for expenditure\n",
    "\n",
    "df_all.groupby('dependents_group').agg({'prices':['mean', 'min', 'max']})"
   ]
  },
  {
   "cell_type": "code",
   "execution_count": 52,
   "id": "c7fb2976-3e1c-47c9-bb69-79a67f1862c7",
   "metadata": {},
   "outputs": [
    {
     "data": {
      "image/png": "[encoded data removed]",
      "text/plain": [
       "<Figure size 640x480 with 2 Axes>"
      ]
     },
     "metadata": {},
     "output_type": "display_data"
    }
   ],
   "source": [
    "# Plot distribution\n",
    "dependents_groups = dep_agg_days_data.index.tolist()\n",
    "means = dep_agg_days_data['median_days']['mean'].tolist()\n",
    "min_values = dep_agg_days_data['median_days']['min'].tolist()\n",
    "max_values = dep_agg_days_data['median_days']['max'].tolist()\n",
    "\n",
    "fig, ax1 = plt.subplots()\n",
    "\n",
    "# Bar/Line chart for customer order counts and summary stats\n",
    "order_counts = df_all['dependents_group'].value_counts().loc[dependents_groups].tolist()\n",
    "ax1.bar(dependents_groups, order_counts, color=['dodgerblue', 'orangered', 'darkviolet'], alpha=0.6, label='Order Counts')\n",
    "ax1.set_xlabel('Dependents Groups')\n",
    "ax1.set_ylabel('Number of Customers', color='black')\n",
    "ax1.tick_params(axis='y', labelcolor='black')\n",
    "\n",
    "# Line plot for mean, min, and max prices\n",
    "ax2 = ax1.twinx()\n",
    "ax2.plot(dependents_groups, means, color='red', marker='o', label='Mean Days')\n",
    "ax2.plot(dependents_groups, max_values, color='blueviolet', marker='o', label='Max Days')\n",
    "ax2.plot(dependents_groups, min_values, color='gold', marker='o', label='Min Days')\n",
    "ax2.set_ylabel('Days Since Last Order', color='black')\n",
    "ax2.tick_params(axis='y', labelcolor='black')\n",
    "  \n",
    "# Adding legends\n",
    "fig.legend(loc=\"upper right\", bbox_to_anchor=(1,1), bbox_transform=ax1.transAxes)\n",
    "\n",
    "plt.title('Distribution of Days Since Last Order by Dependents Group with Summary Statistics')\n",
    "\n",
    "# Export bar chart image\n",
    "plt.savefig(os.path.join(path,'04 Analysis','Visualizations','bar_line_dep_days.png'))\n",
    "\n",
    "plt.show()"
   ]
  },
  {
   "cell_type": "markdown",
   "id": "d124fb00-bb83-4a80-9cb4-c2ac89b47141",
   "metadata": {},
   "source": [
    "### 07. Compare profiles with regions and departments to identify possible links & Create charts"
   ]
  },
  {
   "cell_type": "code",
   "execution_count": 53,
   "id": "e6f7c3db-9d74-4f71-bf6f-707bc8460c4c",
   "metadata": {},
   "outputs": [
    {
     "data": {
      "text/html": [
       "<div>\n",
       "<style scoped>\n",
       "    .dataframe tbody tr th:only-of-type {\n",
       "        vertical-align: middle;\n",
       "    }\n",
       "\n",
       "    .dataframe tbody tr th {\n",
       "        vertical-align: top;\n",
       "    }\n",
       "\n",
       "    .dataframe thead th {\n",
       "        text-align: right;\n",
       "    }\n",
       "</style>\n",
       "<table border=\"1\" class=\"dataframe\">\n",
       "  <thead>\n",
       "    <tr style=\"text-align: right;\">\n",
       "      <th></th>\n",
       "      <th>region</th>\n",
       "      <th>midwest</th>\n",
       "      <th>northeast</th>\n",
       "      <th>south</th>\n",
       "      <th>west</th>\n",
       "    </tr>\n",
       "    <tr>\n",
       "      <th>age_group</th>\n",
       "      <th>spending_flag</th>\n",
       "      <th></th>\n",
       "      <th></th>\n",
       "      <th></th>\n",
       "      <th></th>\n",
       "    </tr>\n",
       "  </thead>\n",
       "  <tbody>\n",
       "    <tr>\n",
       "      <th rowspan=\"2\" valign=\"top\">Adult</th>\n",
       "      <th>High Spender</th>\n",
       "      <td>73422</td>\n",
       "      <td>52812</td>\n",
       "      <td>100354</td>\n",
       "      <td>72962</td>\n",
       "    </tr>\n",
       "    <tr>\n",
       "      <th>Low Spender</th>\n",
       "      <td>3509802</td>\n",
       "      <td>2589708</td>\n",
       "      <td>4953627</td>\n",
       "      <td>3823034</td>\n",
       "    </tr>\n",
       "    <tr>\n",
       "      <th rowspan=\"2\" valign=\"top\">Senior</th>\n",
       "      <th>High Spender</th>\n",
       "      <td>37647</td>\n",
       "      <td>21986</td>\n",
       "      <td>41578</td>\n",
       "      <td>34940</td>\n",
       "    </tr>\n",
       "    <tr>\n",
       "      <th>Low Spender</th>\n",
       "      <td>1656608</td>\n",
       "      <td>1317384</td>\n",
       "      <td>2376853</td>\n",
       "      <td>1834525</td>\n",
       "    </tr>\n",
       "    <tr>\n",
       "      <th rowspan=\"2\" valign=\"top\">Young</th>\n",
       "      <th>High Spender</th>\n",
       "      <td>24028</td>\n",
       "      <td>16483</td>\n",
       "      <td>32023</td>\n",
       "      <td>23199</td>\n",
       "    </tr>\n",
       "    <tr>\n",
       "      <th>Low Spender</th>\n",
       "      <td>1185424</td>\n",
       "      <td>902792</td>\n",
       "      <td>1716415</td>\n",
       "      <td>1297626</td>\n",
       "    </tr>\n",
       "  </tbody>\n",
       "</table>\n",
       "</div>"
      ],
      "text/plain": [
       "region                   midwest  northeast    south     west\n",
       "age_group spending_flag                                      \n",
       "Adult     High Spender     73422      52812   100354    72962\n",
       "          Low Spender    3509802    2589708  4953627  3823034\n",
       "Senior    High Spender     37647      21986    41578    34940\n",
       "          Low Spender    1656608    1317384  2376853  1834525\n",
       "Young     High Spender     24028      16483    32023    23199\n",
       "          Low Spender    1185424     902792  1716415  1297626"
      ]
     },
     "execution_count": 53,
     "metadata": {},
     "output_type": "execute_result"
    }
   ],
   "source": [
    "# Compare and Chart age_group/spending_flag/region\n",
    "\n",
    "crosstab = pd.crosstab([df_all['age_group'], df_all['spending_flag']], df_all['region'], dropna=False)\n",
    "crosstab"
   ]
  },
  {
   "cell_type": "code",
   "execution_count": 54,
   "id": "bcffa07a-4c75-4db5-8914-214ad347d04e",
   "metadata": {},
   "outputs": [
    {
     "data": {
      "image/png": "[encoded data removed]",
      "text/plain": [
       "<Figure size 1000x600 with 1 Axes>"
      ]
     },
     "metadata": {},
     "output_type": "display_data"
    }
   ],
   "source": [
    "# Display stacked bar chart\n",
    "crosstab.plot(kind='bar', stacked=True, figsize=(10, 6))\n",
    "plt.title('Spending Flag by Age Group and Region')\n",
    "plt.xlabel('Age Group and Spending Flag')\n",
    "plt.ylabel('Count')\n",
    "plt.legend(title='Region')\n",
    "plt.xticks(rotation=45)\n",
    "\n",
    "# Export bar chart image\n",
    "plt.savefig(os.path.join(path, '04 Analysis','Visualizations', 'sbar_age_region.png'))\n",
    "\n",
    "plt.show()"
   ]
  },
  {
   "cell_type": "code",
   "execution_count": 55,
   "id": "f22f58f4-0edd-4fdb-ad9d-3a6a25211e10",
   "metadata": {},
   "outputs": [
    {
     "data": {
      "text/plain": [
       "(128664, 35)"
      ]
     },
     "execution_count": 55,
     "metadata": {},
     "output_type": "execute_result"
    }
   ],
   "source": [
    "# Compare and Chart income_group/alcohol group/region\n",
    "\n",
    "# Create filtered department-alcohol variable\n",
    "\n",
    "df_alcohol = df_all.loc[df_all['department_id'] == '5']\n",
    "df_alcohol.shape"
   ]
  },
  {
   "cell_type": "code",
   "execution_count": 56,
   "id": "58480f81-cdcf-47f6-bad9-fa2a1ef698ff",
   "metadata": {},
   "outputs": [
    {
     "data": {
      "text/html": [
       "<div>\n",
       "<style scoped>\n",
       "    .dataframe tbody tr th:only-of-type {\n",
       "        vertical-align: middle;\n",
       "    }\n",
       "\n",
       "    .dataframe tbody tr th {\n",
       "        vertical-align: top;\n",
       "    }\n",
       "\n",
       "    .dataframe thead th {\n",
       "        text-align: right;\n",
       "    }\n",
       "</style>\n",
       "<table border=\"1\" class=\"dataframe\">\n",
       "  <thead>\n",
       "    <tr style=\"text-align: right;\">\n",
       "      <th></th>\n",
       "      <th>region</th>\n",
       "      <th>midwest</th>\n",
       "      <th>northeast</th>\n",
       "      <th>south</th>\n",
       "      <th>west</th>\n",
       "    </tr>\n",
       "    <tr>\n",
       "      <th>income_group</th>\n",
       "      <th>department_id</th>\n",
       "      <th></th>\n",
       "      <th></th>\n",
       "      <th></th>\n",
       "      <th></th>\n",
       "    </tr>\n",
       "  </thead>\n",
       "  <tbody>\n",
       "    <tr>\n",
       "      <th>High Income</th>\n",
       "      <th>5</th>\n",
       "      <td>944</td>\n",
       "      <td>998</td>\n",
       "      <td>1296</td>\n",
       "      <td>940</td>\n",
       "    </tr>\n",
       "    <tr>\n",
       "      <th>Low Income</th>\n",
       "      <th>5</th>\n",
       "      <td>15749</td>\n",
       "      <td>11116</td>\n",
       "      <td>23496</td>\n",
       "      <td>16611</td>\n",
       "    </tr>\n",
       "    <tr>\n",
       "      <th>Middle Income</th>\n",
       "      <th>5</th>\n",
       "      <td>13935</td>\n",
       "      <td>10014</td>\n",
       "      <td>18512</td>\n",
       "      <td>15053</td>\n",
       "    </tr>\n",
       "  </tbody>\n",
       "</table>\n",
       "</div>"
      ],
      "text/plain": [
       "region                       midwest  northeast  south   west\n",
       "income_group  department_id                                  \n",
       "High Income   5                  944        998   1296    940\n",
       "Low Income    5                15749      11116  23496  16611\n",
       "Middle Income 5                13935      10014  18512  15053"
      ]
     },
     "execution_count": 56,
     "metadata": {},
     "output_type": "execute_result"
    }
   ],
   "source": [
    "# Display cross-comparison between income_group/alcohol group/region\n",
    "\n",
    "\n",
    "crosstab = pd.crosstab([df_all['income_group'], df_alcohol['department_id']], df_all['region'], dropna=False)\n",
    "crosstab"
   ]
  },
  {
   "cell_type": "code",
   "execution_count": 57,
   "id": "0f68d9a2-0bb8-45cb-9bfd-d9f7309a5ef3",
   "metadata": {},
   "outputs": [
    {
     "data": {
      "image/png": "[encoded data removed]",
      "text/plain": [
       "<Figure size 1000x600 with 1 Axes>"
      ]
     },
     "metadata": {},
     "output_type": "display_data"
    }
   ],
   "source": [
    "# Display stacked bar chart\n",
    "colors = ['teal', 'coral', 'yellowgreen', 'orchid']\n",
    "crosstab.plot(kind='bar', stacked=True, figsize=(10, 6), color=colors)\n",
    "plt.title('Alcohol Orders by Income Group and Region')\n",
    "plt.xlabel('Income Group and Alcohol Orders')\n",
    "plt.ylabel('Count')\n",
    "plt.legend(title='Region')\n",
    "plt.xticks(rotation=45)\n",
    "\n",
    "# Export bar chart image\n",
    "plt.savefig(os.path.join(path, '04 Analysis','Visualizations', 'sbar_inc_region.png'))\n",
    "\n",
    "plt.show()"
   ]
  },
  {
   "cell_type": "code",
   "execution_count": 58,
   "id": "4cc84b12-0d38-4081-8814-e36a246e8167",
   "metadata": {},
   "outputs": [
    {
     "data": {
      "text/html": [
       "<div>\n",
       "<style scoped>\n",
       "    .dataframe tbody tr th:only-of-type {\n",
       "        vertical-align: middle;\n",
       "    }\n",
       "\n",
       "    .dataframe tbody tr th {\n",
       "        vertical-align: top;\n",
       "    }\n",
       "\n",
       "    .dataframe thead th {\n",
       "        text-align: right;\n",
       "    }\n",
       "</style>\n",
       "<table border=\"1\" class=\"dataframe\">\n",
       "  <thead>\n",
       "    <tr style=\"text-align: right;\">\n",
       "      <th>region</th>\n",
       "      <th>midwest</th>\n",
       "      <th>northeast</th>\n",
       "      <th>south</th>\n",
       "      <th>west</th>\n",
       "    </tr>\n",
       "    <tr>\n",
       "      <th>order_freq_flag</th>\n",
       "      <th></th>\n",
       "      <th></th>\n",
       "      <th></th>\n",
       "      <th></th>\n",
       "    </tr>\n",
       "  </thead>\n",
       "  <tbody>\n",
       "    <tr>\n",
       "      <th>Frequent customer</th>\n",
       "      <td>12359</td>\n",
       "      <td>10466</td>\n",
       "      <td>17246</td>\n",
       "      <td>13112</td>\n",
       "    </tr>\n",
       "    <tr>\n",
       "      <th>Non-frequent customer</th>\n",
       "      <td>1872</td>\n",
       "      <td>1218</td>\n",
       "      <td>2562</td>\n",
       "      <td>2355</td>\n",
       "    </tr>\n",
       "    <tr>\n",
       "      <th>Regular customer</th>\n",
       "      <td>4876</td>\n",
       "      <td>4025</td>\n",
       "      <td>6774</td>\n",
       "      <td>6017</td>\n",
       "    </tr>\n",
       "  </tbody>\n",
       "</table>\n",
       "</div>"
      ],
      "text/plain": [
       "region                 midwest  northeast  south   west\n",
       "order_freq_flag                                        \n",
       "Frequent customer        12359      10466  17246  13112\n",
       "Non-frequent customer     1872       1218   2562   2355\n",
       "Regular customer          4876       4025   6774   6017"
      ]
     },
     "execution_count": 58,
     "metadata": {},
     "output_type": "execute_result"
    }
   ],
   "source": [
    "# Compare and Chart pets_group/region\n",
    "\n",
    "crosstab = pd.crosstab(df_pets['order_freq_flag'], df_pets['region'], dropna=False)\n",
    "crosstab"
   ]
  },
  {
   "cell_type": "code",
   "execution_count": 59,
   "id": "0176b2e0-1f89-4e1a-a454-6376c7230b56",
   "metadata": {},
   "outputs": [
    {
     "data": {
      "image/png": "[encoded data removed]",
      "text/plain": [
       "<Figure size 1000x600 with 1 Axes>"
      ]
     },
     "metadata": {},
     "output_type": "display_data"
    }
   ],
   "source": [
    "# Display stacked bar chart\n",
    "colors = ['maroon', 'rosybrown', 'lightcoral', 'mistyrose']\n",
    "crosstab.plot(kind='bar', stacked=True, figsize=(10, 6), color=colors)\n",
    "plt.title('Loyalty by Pets Group and Region')\n",
    "plt.xlabel('Pets Group and Loyalty')\n",
    "plt.ylabel('Count')\n",
    "plt.legend(title='Region')\n",
    "plt.xticks(rotation=45)\n",
    "\n",
    "# Export bar chart image\n",
    "plt.savefig(os.path.join(path, '04 Analysis','Visualizations', 'sbar_pets_region.png'))\n",
    "\n",
    "plt.show()"
   ]
  },
  {
   "cell_type": "code",
   "execution_count": 60,
   "id": "8aa3bdee-0fd3-421c-a1d2-9924436492f2",
   "metadata": {},
   "outputs": [
    {
     "data": {
      "text/html": [
       "<div>\n",
       "<style scoped>\n",
       "    .dataframe tbody tr th:only-of-type {\n",
       "        vertical-align: middle;\n",
       "    }\n",
       "\n",
       "    .dataframe tbody tr th {\n",
       "        vertical-align: top;\n",
       "    }\n",
       "\n",
       "    .dataframe thead th {\n",
       "        text-align: right;\n",
       "    }\n",
       "</style>\n",
       "<table border=\"1\" class=\"dataframe\">\n",
       "  <thead>\n",
       "    <tr style=\"text-align: right;\">\n",
       "      <th></th>\n",
       "      <th>region</th>\n",
       "      <th>midwest</th>\n",
       "      <th>northeast</th>\n",
       "      <th>south</th>\n",
       "      <th>west</th>\n",
       "    </tr>\n",
       "    <tr>\n",
       "      <th>dependents_group</th>\n",
       "      <th>price_range</th>\n",
       "      <th></th>\n",
       "      <th></th>\n",
       "      <th></th>\n",
       "      <th></th>\n",
       "    </tr>\n",
       "  </thead>\n",
       "  <tbody>\n",
       "    <tr>\n",
       "      <th rowspan=\"3\" valign=\"top\">Average</th>\n",
       "      <th>High-range product</th>\n",
       "      <td>41256</td>\n",
       "      <td>30852</td>\n",
       "      <td>59209</td>\n",
       "      <td>45363</td>\n",
       "    </tr>\n",
       "    <tr>\n",
       "      <th>Low-range product</th>\n",
       "      <td>1020464</td>\n",
       "      <td>770175</td>\n",
       "      <td>1437783</td>\n",
       "      <td>1092273</td>\n",
       "    </tr>\n",
       "    <tr>\n",
       "      <th>Mid-range product</th>\n",
       "      <td>2203054</td>\n",
       "      <td>1655935</td>\n",
       "      <td>3111086</td>\n",
       "      <td>2363965</td>\n",
       "    </tr>\n",
       "    <tr>\n",
       "      <th rowspan=\"3\" valign=\"top\">Many</th>\n",
       "      <th>High-range product</th>\n",
       "      <td>20458</td>\n",
       "      <td>16229</td>\n",
       "      <td>29125</td>\n",
       "      <td>23098</td>\n",
       "    </tr>\n",
       "    <tr>\n",
       "      <th>Low-range product</th>\n",
       "      <td>494152</td>\n",
       "      <td>386202</td>\n",
       "      <td>720046</td>\n",
       "      <td>568325</td>\n",
       "    </tr>\n",
       "    <tr>\n",
       "      <th>Mid-range product</th>\n",
       "      <td>1073413</td>\n",
       "      <td>831541</td>\n",
       "      <td>1562387</td>\n",
       "      <td>1219676</td>\n",
       "    </tr>\n",
       "    <tr>\n",
       "      <th rowspan=\"3\" valign=\"top\">None</th>\n",
       "      <th>High-range product</th>\n",
       "      <td>20277</td>\n",
       "      <td>14929</td>\n",
       "      <td>28824</td>\n",
       "      <td>22020</td>\n",
       "    </tr>\n",
       "    <tr>\n",
       "      <th>Low-range product</th>\n",
       "      <td>510178</td>\n",
       "      <td>379481</td>\n",
       "      <td>719247</td>\n",
       "      <td>554611</td>\n",
       "    </tr>\n",
       "    <tr>\n",
       "      <th>Mid-range product</th>\n",
       "      <td>1103679</td>\n",
       "      <td>815821</td>\n",
       "      <td>1553143</td>\n",
       "      <td>1196955</td>\n",
       "    </tr>\n",
       "  </tbody>\n",
       "</table>\n",
       "</div>"
      ],
      "text/plain": [
       "region                               midwest  northeast    south     west\n",
       "dependents_group price_range                                             \n",
       "Average          High-range product    41256      30852    59209    45363\n",
       "                 Low-range product   1020464     770175  1437783  1092273\n",
       "                 Mid-range product   2203054    1655935  3111086  2363965\n",
       "Many             High-range product    20458      16229    29125    23098\n",
       "                 Low-range product    494152     386202   720046   568325\n",
       "                 Mid-range product   1073413     831541  1562387  1219676\n",
       "None             High-range product    20277      14929    28824    22020\n",
       "                 Low-range product    510178     379481   719247   554611\n",
       "                 Mid-range product   1103679     815821  1553143  1196955"
      ]
     },
     "execution_count": 60,
     "metadata": {},
     "output_type": "execute_result"
    }
   ],
   "source": [
    "# Compare and Chart dependents/region\n",
    "\n",
    "crosstab = pd.crosstab([df_all['dependents_group'], df_all['price_range']], df_all['region'], dropna=False)\n",
    "crosstab"
   ]
  },
  {
   "cell_type": "code",
   "execution_count": 61,
   "id": "1d489ec6-9dd1-409c-88bd-f3dd18db6d85",
   "metadata": {},
   "outputs": [
    {
     "data": {
      "image/png": "[encoded data removed]",
      "text/plain": [
       "<Figure size 1000x600 with 1 Axes>"
      ]
     },
     "metadata": {},
     "output_type": "display_data"
    }
   ],
   "source": [
    "# Display stacked bar chart\n",
    "colors = ['darkblue', 'cornflowerblue', 'lavender', 'mediumslateblue']\n",
    "crosstab.plot(kind='bar', stacked=True, figsize=(10, 6), color=colors)\n",
    "plt.title('Price Range by Dependents Group and Region')\n",
    "plt.xlabel('Dependents Group and Price Range')\n",
    "plt.ylabel('Count')\n",
    "plt.legend(title='Region')\n",
    "plt.xticks(rotation=45)\n",
    "\n",
    "# Export bar chart image\n",
    "plt.savefig(os.path.join(path, '04 Analysis','Visualizations', 'sbar_dep_region.png'))\n",
    "\n",
    "plt.show()"
   ]
  },
  {
   "cell_type": "code",
   "execution_count": 77,
   "id": "ab57d347-eddc-43f4-bf98-95aad261aec9",
   "metadata": {},
   "outputs": [],
   "source": [
    "# Reset the index if department_id is set as the index\n",
    "if df_dept.index.name == 'department_id':\n",
    "    df_dept.reset_index(inplace=True)\n",
    "\n",
    "# Drop the header row if it exists as a row in the DataFrame\n",
    "df_dept = df_dept[df_dept['department_id'] != 'department_id']\n",
    "\n",
    "# Convert department_id to integer in both DataFrames\n",
    "df_dept['department_id'] = df_dept['department_id'].astype(int)\n",
    "df_all['department_id'] = df_all['department_id'].astype(int)\n",
    "\n",
    "# Create the dictionary from df_dept\n",
    "dept_dict = df_dept.set_index('department_id')['department'].to_dict()\n",
    "\n",
    "# Add the dept_name column to df_all\n",
    "df_all['dept_name'] = df_all['department_id'].map(dept_dict)"
   ]
  },
  {
   "cell_type": "code",
   "execution_count": 78,
   "id": "f62b2da5-433a-4489-89f1-afc7e819eac9",
   "metadata": {},
   "outputs": [
    {
     "data": {
      "text/plain": [
       "(27695232, 36)"
      ]
     },
     "execution_count": 78,
     "metadata": {},
     "output_type": "execute_result"
    }
   ],
   "source": [
    "df_all.shape"
   ]
  },
  {
   "cell_type": "code",
   "execution_count": 79,
   "id": "8e18b334-092f-40e9-8296-0fb0e341f39b",
   "metadata": {},
   "outputs": [
    {
     "data": {
      "text/html": [
       "<div>\n",
       "<style scoped>\n",
       "    .dataframe tbody tr th:only-of-type {\n",
       "        vertical-align: middle;\n",
       "    }\n",
       "\n",
       "    .dataframe tbody tr th {\n",
       "        vertical-align: top;\n",
       "    }\n",
       "\n",
       "    .dataframe thead th {\n",
       "        text-align: right;\n",
       "    }\n",
       "</style>\n",
       "<table border=\"1\" class=\"dataframe\">\n",
       "  <thead>\n",
       "    <tr style=\"text-align: right;\">\n",
       "      <th></th>\n",
       "      <th>order_id</th>\n",
       "      <th>user_id</th>\n",
       "      <th>order_number</th>\n",
       "      <th>orders_day_of_week</th>\n",
       "      <th>order_hour_of_day</th>\n",
       "      <th>days_since_prior_order</th>\n",
       "      <th>product_id</th>\n",
       "      <th>add_to_cart_order</th>\n",
       "      <th>reordered</th>\n",
       "      <th>product_name</th>\n",
       "      <th>aisle_id</th>\n",
       "      <th>department_id</th>\n",
       "      <th>prices</th>\n",
       "      <th>price_range</th>\n",
       "      <th>busiest_days</th>\n",
       "      <th>busiest_period_of_day</th>\n",
       "      <th>max_order</th>\n",
       "      <th>loyalty_flag</th>\n",
       "      <th>avg_prices</th>\n",
       "      <th>spending_flag</th>\n",
       "      <th>median_days</th>\n",
       "      <th>order_freq_flag</th>\n",
       "      <th>gender</th>\n",
       "      <th>state</th>\n",
       "      <th>age</th>\n",
       "      <th>date_joined</th>\n",
       "      <th>dependents</th>\n",
       "      <th>fam_status</th>\n",
       "      <th>income</th>\n",
       "      <th>_merge</th>\n",
       "      <th>region</th>\n",
       "      <th>activity_flag</th>\n",
       "      <th>age_group</th>\n",
       "      <th>income_group</th>\n",
       "      <th>dependents_group</th>\n",
       "      <th>dept_name</th>\n",
       "    </tr>\n",
       "  </thead>\n",
       "  <tbody>\n",
       "    <tr>\n",
       "      <th>0</th>\n",
       "      <td>2398795</td>\n",
       "      <td>1</td>\n",
       "      <td>2</td>\n",
       "      <td>3</td>\n",
       "      <td>7</td>\n",
       "      <td>15.0</td>\n",
       "      <td>196</td>\n",
       "      <td>1</td>\n",
       "      <td>1</td>\n",
       "      <td>Soda</td>\n",
       "      <td>77</td>\n",
       "      <td>7</td>\n",
       "      <td>9.0</td>\n",
       "      <td>Mid-range product</td>\n",
       "      <td>Least busy</td>\n",
       "      <td>Average orders</td>\n",
       "      <td>10</td>\n",
       "      <td>New customer</td>\n",
       "      <td>6.372222</td>\n",
       "      <td>Low Spender</td>\n",
       "      <td>20.5</td>\n",
       "      <td>Non-frequent customer</td>\n",
       "      <td>Female</td>\n",
       "      <td>Alabama</td>\n",
       "      <td>31</td>\n",
       "      <td>2/17/2019</td>\n",
       "      <td>3</td>\n",
       "      <td>married</td>\n",
       "      <td>40423</td>\n",
       "      <td>both</td>\n",
       "      <td>south</td>\n",
       "      <td>high</td>\n",
       "      <td>Adult</td>\n",
       "      <td>Low Income</td>\n",
       "      <td>Many</td>\n",
       "      <td>beverages</td>\n",
       "    </tr>\n",
       "    <tr>\n",
       "      <th>1</th>\n",
       "      <td>2398795</td>\n",
       "      <td>1</td>\n",
       "      <td>2</td>\n",
       "      <td>3</td>\n",
       "      <td>7</td>\n",
       "      <td>15.0</td>\n",
       "      <td>10258</td>\n",
       "      <td>2</td>\n",
       "      <td>0</td>\n",
       "      <td>Pistachios</td>\n",
       "      <td>117</td>\n",
       "      <td>19</td>\n",
       "      <td>3.0</td>\n",
       "      <td>Low-range product</td>\n",
       "      <td>Least busy</td>\n",
       "      <td>Average orders</td>\n",
       "      <td>10</td>\n",
       "      <td>New customer</td>\n",
       "      <td>6.372222</td>\n",
       "      <td>Low Spender</td>\n",
       "      <td>20.5</td>\n",
       "      <td>Non-frequent customer</td>\n",
       "      <td>Female</td>\n",
       "      <td>Alabama</td>\n",
       "      <td>31</td>\n",
       "      <td>2/17/2019</td>\n",
       "      <td>3</td>\n",
       "      <td>married</td>\n",
       "      <td>40423</td>\n",
       "      <td>both</td>\n",
       "      <td>south</td>\n",
       "      <td>high</td>\n",
       "      <td>Adult</td>\n",
       "      <td>Low Income</td>\n",
       "      <td>Many</td>\n",
       "      <td>snacks</td>\n",
       "    </tr>\n",
       "    <tr>\n",
       "      <th>2</th>\n",
       "      <td>2398795</td>\n",
       "      <td>1</td>\n",
       "      <td>2</td>\n",
       "      <td>3</td>\n",
       "      <td>7</td>\n",
       "      <td>15.0</td>\n",
       "      <td>12427</td>\n",
       "      <td>3</td>\n",
       "      <td>1</td>\n",
       "      <td>Original Beef Jerky</td>\n",
       "      <td>23</td>\n",
       "      <td>19</td>\n",
       "      <td>4.4</td>\n",
       "      <td>Low-range product</td>\n",
       "      <td>Least busy</td>\n",
       "      <td>Average orders</td>\n",
       "      <td>10</td>\n",
       "      <td>New customer</td>\n",
       "      <td>6.372222</td>\n",
       "      <td>Low Spender</td>\n",
       "      <td>20.5</td>\n",
       "      <td>Non-frequent customer</td>\n",
       "      <td>Female</td>\n",
       "      <td>Alabama</td>\n",
       "      <td>31</td>\n",
       "      <td>2/17/2019</td>\n",
       "      <td>3</td>\n",
       "      <td>married</td>\n",
       "      <td>40423</td>\n",
       "      <td>both</td>\n",
       "      <td>south</td>\n",
       "      <td>high</td>\n",
       "      <td>Adult</td>\n",
       "      <td>Low Income</td>\n",
       "      <td>Many</td>\n",
       "      <td>snacks</td>\n",
       "    </tr>\n",
       "    <tr>\n",
       "      <th>3</th>\n",
       "      <td>2398795</td>\n",
       "      <td>1</td>\n",
       "      <td>2</td>\n",
       "      <td>3</td>\n",
       "      <td>7</td>\n",
       "      <td>15.0</td>\n",
       "      <td>13176</td>\n",
       "      <td>4</td>\n",
       "      <td>0</td>\n",
       "      <td>Bag of Organic Bananas</td>\n",
       "      <td>24</td>\n",
       "      <td>4</td>\n",
       "      <td>10.3</td>\n",
       "      <td>Mid-range product</td>\n",
       "      <td>Least busy</td>\n",
       "      <td>Average orders</td>\n",
       "      <td>10</td>\n",
       "      <td>New customer</td>\n",
       "      <td>6.372222</td>\n",
       "      <td>Low Spender</td>\n",
       "      <td>20.5</td>\n",
       "      <td>Non-frequent customer</td>\n",
       "      <td>Female</td>\n",
       "      <td>Alabama</td>\n",
       "      <td>31</td>\n",
       "      <td>2/17/2019</td>\n",
       "      <td>3</td>\n",
       "      <td>married</td>\n",
       "      <td>40423</td>\n",
       "      <td>both</td>\n",
       "      <td>south</td>\n",
       "      <td>high</td>\n",
       "      <td>Adult</td>\n",
       "      <td>Low Income</td>\n",
       "      <td>Many</td>\n",
       "      <td>produce</td>\n",
       "    </tr>\n",
       "    <tr>\n",
       "      <th>4</th>\n",
       "      <td>2398795</td>\n",
       "      <td>1</td>\n",
       "      <td>2</td>\n",
       "      <td>3</td>\n",
       "      <td>7</td>\n",
       "      <td>15.0</td>\n",
       "      <td>26088</td>\n",
       "      <td>5</td>\n",
       "      <td>1</td>\n",
       "      <td>Aged White Cheddar Popcorn</td>\n",
       "      <td>23</td>\n",
       "      <td>19</td>\n",
       "      <td>4.7</td>\n",
       "      <td>Low-range product</td>\n",
       "      <td>Least busy</td>\n",
       "      <td>Average orders</td>\n",
       "      <td>10</td>\n",
       "      <td>New customer</td>\n",
       "      <td>6.372222</td>\n",
       "      <td>Low Spender</td>\n",
       "      <td>20.5</td>\n",
       "      <td>Non-frequent customer</td>\n",
       "      <td>Female</td>\n",
       "      <td>Alabama</td>\n",
       "      <td>31</td>\n",
       "      <td>2/17/2019</td>\n",
       "      <td>3</td>\n",
       "      <td>married</td>\n",
       "      <td>40423</td>\n",
       "      <td>both</td>\n",
       "      <td>south</td>\n",
       "      <td>high</td>\n",
       "      <td>Adult</td>\n",
       "      <td>Low Income</td>\n",
       "      <td>Many</td>\n",
       "      <td>snacks</td>\n",
       "    </tr>\n",
       "  </tbody>\n",
       "</table>\n",
       "</div>"
      ],
      "text/plain": [
       "  order_id user_id  order_number  orders_day_of_week  order_hour_of_day  \\\n",
       "0  2398795       1             2                   3                  7   \n",
       "1  2398795       1             2                   3                  7   \n",
       "2  2398795       1             2                   3                  7   \n",
       "3  2398795       1             2                   3                  7   \n",
       "4  2398795       1             2                   3                  7   \n",
       "\n",
       "   days_since_prior_order product_id  add_to_cart_order  reordered  \\\n",
       "0                    15.0        196                  1          1   \n",
       "1                    15.0      10258                  2          0   \n",
       "2                    15.0      12427                  3          1   \n",
       "3                    15.0      13176                  4          0   \n",
       "4                    15.0      26088                  5          1   \n",
       "\n",
       "                 product_name aisle_id  department_id  prices  \\\n",
       "0                        Soda       77              7     9.0   \n",
       "1                  Pistachios      117             19     3.0   \n",
       "2         Original Beef Jerky       23             19     4.4   \n",
       "3      Bag of Organic Bananas       24              4    10.3   \n",
       "4  Aged White Cheddar Popcorn       23             19     4.7   \n",
       "\n",
       "         price_range busiest_days busiest_period_of_day  max_order  \\\n",
       "0  Mid-range product   Least busy        Average orders         10   \n",
       "1  Low-range product   Least busy        Average orders         10   \n",
       "2  Low-range product   Least busy        Average orders         10   \n",
       "3  Mid-range product   Least busy        Average orders         10   \n",
       "4  Low-range product   Least busy        Average orders         10   \n",
       "\n",
       "   loyalty_flag  avg_prices spending_flag  median_days        order_freq_flag  \\\n",
       "0  New customer    6.372222   Low Spender         20.5  Non-frequent customer   \n",
       "1  New customer    6.372222   Low Spender         20.5  Non-frequent customer   \n",
       "2  New customer    6.372222   Low Spender         20.5  Non-frequent customer   \n",
       "3  New customer    6.372222   Low Spender         20.5  Non-frequent customer   \n",
       "4  New customer    6.372222   Low Spender         20.5  Non-frequent customer   \n",
       "\n",
       "   gender    state  age date_joined  dependents fam_status  income _merge  \\\n",
       "0  Female  Alabama   31   2/17/2019           3    married   40423   both   \n",
       "1  Female  Alabama   31   2/17/2019           3    married   40423   both   \n",
       "2  Female  Alabama   31   2/17/2019           3    married   40423   both   \n",
       "3  Female  Alabama   31   2/17/2019           3    married   40423   both   \n",
       "4  Female  Alabama   31   2/17/2019           3    married   40423   both   \n",
       "\n",
       "  region activity_flag age_group income_group dependents_group  dept_name  \n",
       "0  south          high     Adult   Low Income             Many  beverages  \n",
       "1  south          high     Adult   Low Income             Many     snacks  \n",
       "2  south          high     Adult   Low Income             Many     snacks  \n",
       "3  south          high     Adult   Low Income             Many    produce  \n",
       "4  south          high     Adult   Low Income             Many     snacks  "
      ]
     },
     "execution_count": 79,
     "metadata": {},
     "output_type": "execute_result"
    }
   ],
   "source": [
    "df_all.head()"
   ]
  },
  {
   "cell_type": "code",
   "execution_count": 80,
   "id": "a109aca1-24c8-4316-84ef-706e8fec5107",
   "metadata": {},
   "outputs": [
    {
     "name": "stdout",
     "output_type": "stream",
     "text": [
      "<class 'pandas.core.frame.DataFrame'>\n",
      "Index: 27695232 entries, 0 to 28662589\n",
      "Data columns (total 36 columns):\n",
      " #   Column                  Dtype   \n",
      "---  ------                  -----   \n",
      " 0   order_id                object  \n",
      " 1   user_id                 object  \n",
      " 2   order_number            int64   \n",
      " 3   orders_day_of_week      int64   \n",
      " 4   order_hour_of_day       int64   \n",
      " 5   days_since_prior_order  float64 \n",
      " 6   product_id              object  \n",
      " 7   add_to_cart_order       int64   \n",
      " 8   reordered               int64   \n",
      " 9   product_name            object  \n",
      " 10  aisle_id                object  \n",
      " 11  department_id           int64   \n",
      " 12  prices                  float64 \n",
      " 13  price_range             object  \n",
      " 14  busiest_days            object  \n",
      " 15  busiest_period_of_day   object  \n",
      " 16  max_order               int64   \n",
      " 17  loyalty_flag            object  \n",
      " 18  avg_prices              float64 \n",
      " 19  spending_flag           object  \n",
      " 20  median_days             float64 \n",
      " 21  order_freq_flag         object  \n",
      " 22  gender                  object  \n",
      " 23  state                   object  \n",
      " 24  age                     int64   \n",
      " 25  date_joined             object  \n",
      " 26  dependents              int64   \n",
      " 27  fam_status              object  \n",
      " 28  income                  int64   \n",
      " 29  _merge                  category\n",
      " 30  region                  object  \n",
      " 31  activity_flag           object  \n",
      " 32  age_group               object  \n",
      " 33  income_group            object  \n",
      " 34  dependents_group        object  \n",
      " 35  dept_name               object  \n",
      "dtypes: category(1), float64(4), int64(10), object(21)\n",
      "memory usage: 8.5+ GB\n"
     ]
    }
   ],
   "source": [
    "df_all.info()"
   ]
  },
  {
   "cell_type": "code",
   "execution_count": 83,
   "id": "a8321741-cd2d-49f0-a143-c33c3adddc6f",
   "metadata": {},
   "outputs": [],
   "source": [
    "# Count orders by department\n",
    "\n",
    "order_counts = df_all['dept_name'].value_counts()"
   ]
  },
  {
   "cell_type": "code",
   "execution_count": 108,
   "id": "dd8122b8-d258-4a05-a38b-0d7cf514c031",
   "metadata": {},
   "outputs": [
    {
     "data": {
      "image/png": "[encoded data removed]",
      "text/plain": [
       "<Figure size 1000x600 with 1 Axes>"
      ]
     },
     "metadata": {},
     "output_type": "display_data"
    }
   ],
   "source": [
    "# Create chart\n",
    "\n",
    "plt.figure(figsize=(10, 6))\n",
    "order_counts.plot(kind='bar', color='darkgreen')\n",
    "plt.xlabel('Department Name')\n",
    "plt.ylabel('Frequency of Orders')\n",
    "plt.title('Frequency of Orders by Department Name')\n",
    "plt.xticks(rotation=45, ha='right')\n",
    "plt.tight_layout()  # Adjust layout to make room for x-axis labels\n",
    "\n",
    "# Export bar chart image\n",
    "plt.savefig(os.path.join(path, '04 Analysis','Visualizations', 'hist_dep_orders.png'))\n",
    "\n",
    "plt.show()"
   ]
  },
  {
   "cell_type": "code",
   "execution_count": 97,
   "id": "fc7ab17e-f05a-4277-83fc-748023cb46b0",
   "metadata": {},
   "outputs": [
    {
     "data": {
      "text/html": [
       "<div>\n",
       "<style scoped>\n",
       "    .dataframe tbody tr th:only-of-type {\n",
       "        vertical-align: middle;\n",
       "    }\n",
       "\n",
       "    .dataframe tbody tr th {\n",
       "        vertical-align: top;\n",
       "    }\n",
       "\n",
       "    .dataframe thead th {\n",
       "        text-align: right;\n",
       "    }\n",
       "</style>\n",
       "<table border=\"1\" class=\"dataframe\">\n",
       "  <thead>\n",
       "    <tr style=\"text-align: right;\">\n",
       "      <th>orders_day_of_week</th>\n",
       "      <th>0</th>\n",
       "      <th>1</th>\n",
       "      <th>2</th>\n",
       "      <th>3</th>\n",
       "      <th>4</th>\n",
       "      <th>5</th>\n",
       "      <th>6</th>\n",
       "    </tr>\n",
       "    <tr>\n",
       "      <th>loyalty_flag</th>\n",
       "      <th></th>\n",
       "      <th></th>\n",
       "      <th></th>\n",
       "      <th></th>\n",
       "      <th></th>\n",
       "      <th></th>\n",
       "      <th></th>\n",
       "    </tr>\n",
       "  </thead>\n",
       "  <tbody>\n",
       "    <tr>\n",
       "      <th>Loyal customer</th>\n",
       "      <td>3634</td>\n",
       "      <td>3803</td>\n",
       "      <td>3053</td>\n",
       "      <td>3067</td>\n",
       "      <td>3066</td>\n",
       "      <td>3427</td>\n",
       "      <td>3633</td>\n",
       "    </tr>\n",
       "    <tr>\n",
       "      <th>New customer</th>\n",
       "      <td>2404</td>\n",
       "      <td>1794</td>\n",
       "      <td>1584</td>\n",
       "      <td>1560</td>\n",
       "      <td>1598</td>\n",
       "      <td>1762</td>\n",
       "      <td>1920</td>\n",
       "    </tr>\n",
       "    <tr>\n",
       "      <th>Regular customer</th>\n",
       "      <td>8396</td>\n",
       "      <td>6761</td>\n",
       "      <td>5558</td>\n",
       "      <td>6103</td>\n",
       "      <td>5877</td>\n",
       "      <td>6417</td>\n",
       "      <td>7465</td>\n",
       "    </tr>\n",
       "  </tbody>\n",
       "</table>\n",
       "</div>"
      ],
      "text/plain": [
       "orders_day_of_week     0     1     2     3     4     5     6\n",
       "loyalty_flag                                                \n",
       "Loyal customer      3634  3803  3053  3067  3066  3427  3633\n",
       "New customer        2404  1794  1584  1560  1598  1762  1920\n",
       "Regular customer    8396  6761  5558  6103  5877  6417  7465"
      ]
     },
     "execution_count": 97,
     "metadata": {},
     "output_type": "execute_result"
    }
   ],
   "source": [
    "# Display cross-comparison between income_group/alcohol group/region\n",
    "\n",
    "crosstab = pd.crosstab(df_all['loyalty_flag'], df_pets['orders_day_of_week'], dropna=False)\n",
    "crosstab"
   ]
  },
  {
   "cell_type": "code",
   "execution_count": 99,
   "id": "cb32e14d-eb2e-46c4-9dbe-24f1177cb6b7",
   "metadata": {},
   "outputs": [
    {
     "data": {
      "image/png": "[encoded data removed]",
      "text/plain": [
       "<Figure size 1000x600 with 1 Axes>"
      ]
     },
     "metadata": {},
     "output_type": "display_data"
    }
   ],
   "source": [
    "# Display stacked bar chart\n",
    "colors = ['darkgray', 'lightblue', 'steelblue', 'lightgray', 'aliceblue', 'silver', 'lightskyblue']\n",
    "crosstab.plot(kind='bar', stacked=True, figsize=(10, 6), color=colors)\n",
    "plt.title('Loyalty Group by Weekday')\n",
    "plt.xlabel('Loyalty Group and Weekday')\n",
    "plt.ylabel('Count')\n",
    "plt.legend(title='Weekday')\n",
    "plt.xticks(rotation=45)\n",
    "\n",
    "# Export bar chart image\n",
    "plt.savefig(os.path.join(path, '04 Analysis','Visualizations', 'sbar_loyal_day.png'))\n",
    "\n",
    "plt.show()"
   ]
  },
  {
   "cell_type": "code",
   "execution_count": 101,
   "id": "9c766d3d-5d96-4e4e-bd79-e2a927e48743",
   "metadata": {},
   "outputs": [
    {
     "data": {
      "text/html": [
       "<div>\n",
       "<style scoped>\n",
       "    .dataframe tbody tr th:only-of-type {\n",
       "        vertical-align: middle;\n",
       "    }\n",
       "\n",
       "    .dataframe tbody tr th {\n",
       "        vertical-align: top;\n",
       "    }\n",
       "\n",
       "    .dataframe thead th {\n",
       "        text-align: right;\n",
       "    }\n",
       "</style>\n",
       "<table border=\"1\" class=\"dataframe\">\n",
       "  <thead>\n",
       "    <tr style=\"text-align: right;\">\n",
       "      <th>spending_flag</th>\n",
       "      <th>High Spender</th>\n",
       "      <th>Low Spender</th>\n",
       "    </tr>\n",
       "    <tr>\n",
       "      <th>loyalty_flag</th>\n",
       "      <th></th>\n",
       "      <th></th>\n",
       "    </tr>\n",
       "  </thead>\n",
       "  <tbody>\n",
       "    <tr>\n",
       "      <th>Loyal customer</th>\n",
       "      <td>1351</td>\n",
       "      <td>22332</td>\n",
       "    </tr>\n",
       "    <tr>\n",
       "      <th>New customer</th>\n",
       "      <td>329</td>\n",
       "      <td>12293</td>\n",
       "    </tr>\n",
       "    <tr>\n",
       "      <th>Regular customer</th>\n",
       "      <td>1934</td>\n",
       "      <td>44643</td>\n",
       "    </tr>\n",
       "  </tbody>\n",
       "</table>\n",
       "</div>"
      ],
      "text/plain": [
       "spending_flag     High Spender  Low Spender\n",
       "loyalty_flag                               \n",
       "Loyal customer            1351        22332\n",
       "New customer               329        12293\n",
       "Regular customer          1934        44643"
      ]
     },
     "execution_count": 101,
     "metadata": {},
     "output_type": "execute_result"
    }
   ],
   "source": [
    "# Display cross-comparison between income_group/alcohol group/region\n",
    "\n",
    "crosstab = pd.crosstab(df_all['loyalty_flag'], df_pets['spending_flag'], dropna=False)\n",
    "crosstab"
   ]
  },
  {
   "cell_type": "code",
   "execution_count": 107,
   "id": "f54fc5d4-162b-4bc5-b795-dbdd7eb37125",
   "metadata": {},
   "outputs": [
    {
     "data": {
      "text/plain": [
       "<Figure size 1000x600 with 0 Axes>"
      ]
     },
     "metadata": {},
     "output_type": "display_data"
    },
    {
     "data": {
      "image/png": "[encoded data removed]",
      "text/plain": [
       "<Figure size 640x480 with 1 Axes>"
      ]
     },
     "metadata": {},
     "output_type": "display_data"
    }
   ],
   "source": [
    "# Create chart\n",
    "\n",
    "plt.figure(figsize=(10, 6))\n",
    "crosstab.plot(kind='bar', color=['thistle', 'darkorchid'])\n",
    "plt.xlabel('Loyalty Group')\n",
    "plt.ylabel('Spending')\n",
    "plt.title('Spending Habit by Loyalty')\n",
    "plt.xticks(rotation=45, ha='right')\n",
    "plt.tight_layout()  # Adjust layout to make room for x-axis labels\n",
    "\n",
    "# Export bar chart image\n",
    "plt.savefig(os.path.join(path, '04 Analysis','Visualizations', 'bar_loyal_spend.png'))\n",
    "\n",
    "plt.show()"
   ]
  },
  {
   "cell_type": "markdown",
   "id": "29caeae3-0e88-40af-a327-13ec55fa1c4f",
   "metadata": {},
   "source": [
    "### 08. Export final data set"
   ]
  },
  {
   "cell_type": "code",
   "execution_count": 109,
   "id": "ba0caa26-5058-42e3-a602-50a4474d5516",
   "metadata": {},
   "outputs": [],
   "source": [
    "# Export data (pkl file) as df_all_final\n",
    "\n",
    "df_all.to_pickle(os.path.join(path, '02 Data','Prepared Data', 'df_all_final.pkl'))"
   ]
  },
  {
   "cell_type": "code",
   "execution_count": null,
   "id": "e65ff1db-59c7-4faf-8167-810f9bcdf917",
   "metadata": {},
   "outputs": [],
   "source": []
  }
 ],
 "metadata": {
  "kernelspec": {
   "display_name": "cfinstacart",
   "language": "python",
   "name": "cfinstacart"
  },
  "language_info": {
   "codemirror_mode": {
    "name": "ipython",
    "version": 3
   },
   "file_extension": ".py",
   "mimetype": "text/x-python",
   "name": "python",
   "nbconvert_exporter": "python",
   "pygments_lexer": "ipython3",
   "version": "3.11.8"
  }
 },
 "nbformat": 4,
 "nbformat_minor": 5
}
