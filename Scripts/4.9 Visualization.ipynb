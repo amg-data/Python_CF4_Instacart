{
 "cells": [
  {
   "cell_type": "markdown",
   "id": "a6305755-d43d-4972-91d2-735e6d3f4367",
   "metadata": {},
   "source": [
    "## 4.9 Data Visualization in Python"
   ]
  },
  {
   "cell_type": "markdown",
   "id": "84a68065-89ef-4b7c-bfc1-4192d0f90d7b",
   "metadata": {
    "jp-MarkdownHeadingCollapsed": true
   },
   "source": [
    "### This script contains the following points:\n",
    "\n",
    "#### 1. Import data & Check dimensions\n",
    "#### 2. Bar Charts\n",
    "#### 3. Exporting Charts\n",
    "#### 4. Histograms & Scatterplots\n",
    "#### 5. Sampling Data\n",
    "#### 6. Line Charts\n",
    "#### 7. Export"
   ]
  },
  {
   "cell_type": "markdown",
   "id": "5cfaa28c-f9a5-4e1a-97ce-0887fa9a65f2",
   "metadata": {},
   "source": [
    "### 01. Import data & Check dimensions"
   ]
  },
  {
   "cell_type": "code",
   "execution_count": 1,
   "id": "5e5c5873-ad04-49a9-97bb-8db96614000a",
   "metadata": {},
   "outputs": [],
   "source": [
    "# Import libraries\n",
    "\n",
    "import pandas as pd\n",
    "import numpy as np\n",
    "import os\n",
    "import matplotlib.pyplot as plt\n",
    "import seaborn as sns\n",
    "import scipy"
   ]
  },
  {
   "cell_type": "code",
   "execution_count": 2,
   "id": "fc056b65-ba0a-4e31-8503-2c6e49837187",
   "metadata": {},
   "outputs": [
    {
     "data": {
      "text/html": [
       "<div>\n",
       "<style scoped>\n",
       "    .dataframe tbody tr th:only-of-type {\n",
       "        vertical-align: middle;\n",
       "    }\n",
       "\n",
       "    .dataframe tbody tr th {\n",
       "        vertical-align: top;\n",
       "    }\n",
       "\n",
       "    .dataframe thead th {\n",
       "        text-align: right;\n",
       "    }\n",
       "</style>\n",
       "<table border=\"1\" class=\"dataframe\">\n",
       "  <thead>\n",
       "    <tr style=\"text-align: right;\">\n",
       "      <th></th>\n",
       "      <th>order_id</th>\n",
       "      <th>user_id</th>\n",
       "      <th>order_number</th>\n",
       "      <th>orders_day_of_week</th>\n",
       "      <th>order_hour_of_day</th>\n",
       "      <th>days_since_prior_order</th>\n",
       "      <th>product_id</th>\n",
       "      <th>add_to_cart_order</th>\n",
       "      <th>reordered</th>\n",
       "      <th>product_name</th>\n",
       "      <th>...</th>\n",
       "      <th>_merge</th>\n",
       "      <th>price_range</th>\n",
       "      <th>busiest_days</th>\n",
       "      <th>busiest_period_of_day</th>\n",
       "      <th>max_order</th>\n",
       "      <th>loyalty_flag</th>\n",
       "      <th>avg_prices</th>\n",
       "      <th>spending_flag</th>\n",
       "      <th>median_days</th>\n",
       "      <th>order_freq_flag</th>\n",
       "    </tr>\n",
       "  </thead>\n",
       "  <tbody>\n",
       "    <tr>\n",
       "      <th>0</th>\n",
       "      <td>2398795</td>\n",
       "      <td>1</td>\n",
       "      <td>2</td>\n",
       "      <td>3</td>\n",
       "      <td>7</td>\n",
       "      <td>15.0</td>\n",
       "      <td>196</td>\n",
       "      <td>1</td>\n",
       "      <td>1</td>\n",
       "      <td>Soda</td>\n",
       "      <td>...</td>\n",
       "      <td>both</td>\n",
       "      <td>Mid-range product</td>\n",
       "      <td>Least busy</td>\n",
       "      <td>Average orders</td>\n",
       "      <td>10</td>\n",
       "      <td>New customer</td>\n",
       "      <td>6.372222</td>\n",
       "      <td>Low Spender</td>\n",
       "      <td>20.5</td>\n",
       "      <td>Non-frequent customer</td>\n",
       "    </tr>\n",
       "    <tr>\n",
       "      <th>1</th>\n",
       "      <td>2398795</td>\n",
       "      <td>1</td>\n",
       "      <td>2</td>\n",
       "      <td>3</td>\n",
       "      <td>7</td>\n",
       "      <td>15.0</td>\n",
       "      <td>10258</td>\n",
       "      <td>2</td>\n",
       "      <td>0</td>\n",
       "      <td>Pistachios</td>\n",
       "      <td>...</td>\n",
       "      <td>both</td>\n",
       "      <td>Low-range product</td>\n",
       "      <td>Least busy</td>\n",
       "      <td>Average orders</td>\n",
       "      <td>10</td>\n",
       "      <td>New customer</td>\n",
       "      <td>6.372222</td>\n",
       "      <td>Low Spender</td>\n",
       "      <td>20.5</td>\n",
       "      <td>Non-frequent customer</td>\n",
       "    </tr>\n",
       "    <tr>\n",
       "      <th>2</th>\n",
       "      <td>2398795</td>\n",
       "      <td>1</td>\n",
       "      <td>2</td>\n",
       "      <td>3</td>\n",
       "      <td>7</td>\n",
       "      <td>15.0</td>\n",
       "      <td>12427</td>\n",
       "      <td>3</td>\n",
       "      <td>1</td>\n",
       "      <td>Original Beef Jerky</td>\n",
       "      <td>...</td>\n",
       "      <td>both</td>\n",
       "      <td>Low-range product</td>\n",
       "      <td>Least busy</td>\n",
       "      <td>Average orders</td>\n",
       "      <td>10</td>\n",
       "      <td>New customer</td>\n",
       "      <td>6.372222</td>\n",
       "      <td>Low Spender</td>\n",
       "      <td>20.5</td>\n",
       "      <td>Non-frequent customer</td>\n",
       "    </tr>\n",
       "    <tr>\n",
       "      <th>3</th>\n",
       "      <td>2398795</td>\n",
       "      <td>1</td>\n",
       "      <td>2</td>\n",
       "      <td>3</td>\n",
       "      <td>7</td>\n",
       "      <td>15.0</td>\n",
       "      <td>13176</td>\n",
       "      <td>4</td>\n",
       "      <td>0</td>\n",
       "      <td>Bag of Organic Bananas</td>\n",
       "      <td>...</td>\n",
       "      <td>both</td>\n",
       "      <td>Mid-range product</td>\n",
       "      <td>Least busy</td>\n",
       "      <td>Average orders</td>\n",
       "      <td>10</td>\n",
       "      <td>New customer</td>\n",
       "      <td>6.372222</td>\n",
       "      <td>Low Spender</td>\n",
       "      <td>20.5</td>\n",
       "      <td>Non-frequent customer</td>\n",
       "    </tr>\n",
       "    <tr>\n",
       "      <th>4</th>\n",
       "      <td>2398795</td>\n",
       "      <td>1</td>\n",
       "      <td>2</td>\n",
       "      <td>3</td>\n",
       "      <td>7</td>\n",
       "      <td>15.0</td>\n",
       "      <td>26088</td>\n",
       "      <td>5</td>\n",
       "      <td>1</td>\n",
       "      <td>Aged White Cheddar Popcorn</td>\n",
       "      <td>...</td>\n",
       "      <td>both</td>\n",
       "      <td>Low-range product</td>\n",
       "      <td>Least busy</td>\n",
       "      <td>Average orders</td>\n",
       "      <td>10</td>\n",
       "      <td>New customer</td>\n",
       "      <td>6.372222</td>\n",
       "      <td>Low Spender</td>\n",
       "      <td>20.5</td>\n",
       "      <td>Non-frequent customer</td>\n",
       "    </tr>\n",
       "  </tbody>\n",
       "</table>\n",
       "<p>5 rows × 23 columns</p>\n",
       "</div>"
      ],
      "text/plain": [
       "  order_id user_id  order_number  orders_day_of_week  order_hour_of_day  \\\n",
       "0  2398795       1             2                   3                  7   \n",
       "1  2398795       1             2                   3                  7   \n",
       "2  2398795       1             2                   3                  7   \n",
       "3  2398795       1             2                   3                  7   \n",
       "4  2398795       1             2                   3                  7   \n",
       "\n",
       "   days_since_prior_order product_id  add_to_cart_order  reordered  \\\n",
       "0                    15.0        196                  1          1   \n",
       "1                    15.0      10258                  2          0   \n",
       "2                    15.0      12427                  3          1   \n",
       "3                    15.0      13176                  4          0   \n",
       "4                    15.0      26088                  5          1   \n",
       "\n",
       "                 product_name  ... _merge        price_range  busiest_days  \\\n",
       "0                        Soda  ...   both  Mid-range product    Least busy   \n",
       "1                  Pistachios  ...   both  Low-range product    Least busy   \n",
       "2         Original Beef Jerky  ...   both  Low-range product    Least busy   \n",
       "3      Bag of Organic Bananas  ...   both  Mid-range product    Least busy   \n",
       "4  Aged White Cheddar Popcorn  ...   both  Low-range product    Least busy   \n",
       "\n",
       "  busiest_period_of_day max_order  loyalty_flag avg_prices  spending_flag  \\\n",
       "0        Average orders        10  New customer   6.372222    Low Spender   \n",
       "1        Average orders        10  New customer   6.372222    Low Spender   \n",
       "2        Average orders        10  New customer   6.372222    Low Spender   \n",
       "3        Average orders        10  New customer   6.372222    Low Spender   \n",
       "4        Average orders        10  New customer   6.372222    Low Spender   \n",
       "\n",
       "  median_days        order_freq_flag  \n",
       "0        20.5  Non-frequent customer  \n",
       "1        20.5  Non-frequent customer  \n",
       "2        20.5  Non-frequent customer  \n",
       "3        20.5  Non-frequent customer  \n",
       "4        20.5  Non-frequent customer  \n",
       "\n",
       "[5 rows x 23 columns]"
      ]
     },
     "execution_count": 2,
     "metadata": {},
     "output_type": "execute_result"
    }
   ],
   "source": [
    "# Create string path for main project folder\n",
    "\n",
    "path = r'/Users/AngieUS/Desktop/Instacart Project'\n",
    "\n",
    "# Import ords_prods_merge data (ords_prods_merge_agg.pkl data file from last task)\n",
    "\n",
    "df = pd.read_pickle(os.path.join(path, '02 Data', 'Prepared Data', 'ords_prods_merge_agg.pkl'))\n",
    "\n",
    "# Check df\n",
    "\n",
    "df.head()  "
   ]
  },
  {
   "cell_type": "code",
   "execution_count": 3,
   "id": "faf91a6a-862a-490f-b0e4-a98a77c95300",
   "metadata": {},
   "outputs": [
    {
     "data": {
      "text/plain": [
       "(30328763, 23)"
      ]
     },
     "execution_count": 3,
     "metadata": {},
     "output_type": "execute_result"
    }
   ],
   "source": [
    "# Display dimensions of df - rows, columns\n",
    "\n",
    "df.shape"
   ]
  },
  {
   "cell_type": "markdown",
   "id": "3de0da5f-42ee-4535-9e72-784cafeb4547",
   "metadata": {},
   "source": [
    "### 02. Bar Charts"
   ]
  },
  {
   "cell_type": "code",
   "execution_count": 4,
   "id": "4736ea52-ec26-48a7-85af-b1375348d50f",
   "metadata": {},
   "outputs": [
    {
     "data": {
      "text/plain": [
       "<Axes: xlabel='orders_day_of_week'>"
      ]
     },
     "execution_count": 4,
     "metadata": {},
     "output_type": "execute_result"
    },
    {
     "data": {
      "image/png": "[encoded data removed]",
      "text/plain": [
       "<Figure size 640x480 with 1 Axes>"
      ]
     },
     "metadata": {},
     "output_type": "display_data"
    }
   ],
   "source": [
    "# Create bar chart for 'orders_day_of_week' column\n",
    "\n",
    "df['orders_day_of_week'].value_counts().plot.bar()"
   ]
  },
  {
   "cell_type": "code",
   "execution_count": 5,
   "id": "77c1f616-a149-46a0-839a-32ab5b292eef",
   "metadata": {},
   "outputs": [
    {
     "data": {
      "image/png": "[encoded data removed]",
      "text/plain": [
       "<Figure size 640x480 with 1 Axes>"
      ]
     },
     "metadata": {},
     "output_type": "display_data"
    }
   ],
   "source": [
    "# Since the default order on the x-axis is descending, you can sort the order with:\n",
    "\n",
    "bar = df['orders_day_of_week'].value_counts().sort_index().plot.bar()"
   ]
  },
  {
   "cell_type": "code",
   "execution_count": 6,
   "id": "2d07d33e-a3d7-4b9a-80cd-fd1687372741",
   "metadata": {},
   "outputs": [
    {
     "data": {
      "text/plain": [
       "orders_day_of_week\n",
       "0    5779087\n",
       "1    5303718\n",
       "6    4190948\n",
       "5    3952326\n",
       "2    3947564\n",
       "3    3600589\n",
       "4    3554531\n",
       "Name: count, dtype: int64"
      ]
     },
     "execution_count": 6,
     "metadata": {},
     "output_type": "execute_result"
    }
   ],
   "source": [
    "# This sort syntax works with frequency (value counts) as well:\n",
    "\n",
    "df['orders_day_of_week'].value_counts()"
   ]
  },
  {
   "cell_type": "code",
   "execution_count": 7,
   "id": "c77d31a2-a428-4aef-a8ca-023b63849b43",
   "metadata": {},
   "outputs": [
    {
     "data": {
      "text/plain": [
       "orders_day_of_week\n",
       "0    5779087\n",
       "1    5303718\n",
       "2    3947564\n",
       "3    3600589\n",
       "4    3554531\n",
       "5    3952326\n",
       "6    4190948\n",
       "Name: count, dtype: int64"
      ]
     },
     "execution_count": 7,
     "metadata": {},
     "output_type": "execute_result"
    }
   ],
   "source": [
    "# Sort in value (day of week) order, not count order descending\n",
    "\n",
    "df['orders_day_of_week'].value_counts().sort_index()"
   ]
  },
  {
   "cell_type": "code",
   "execution_count": 8,
   "id": "6127e65a-43f4-425c-a092-7c056cfeceff",
   "metadata": {},
   "outputs": [
    {
     "data": {
      "image/png": "[encoded data removed]",
      "text/plain": [
       "<Figure size 640x480 with 1 Axes>"
      ]
     },
     "metadata": {},
     "output_type": "display_data"
    }
   ],
   "source": [
    "# Add colors to the bar chart\n",
    "\n",
    "bar = df['orders_day_of_week'].value_counts().sort_index().plot.bar(color = ['purple', 'red', 'pink', 'orange', 'yellow', 'green', 'blue'])"
   ]
  },
  {
   "cell_type": "markdown",
   "id": "f78b7e0a-3efc-4608-b982-3105dace4f25",
   "metadata": {},
   "source": [
    "### 03. Exporting Charts"
   ]
  },
  {
   "cell_type": "code",
   "execution_count": 9,
   "id": "a360941d-e2e4-4f05-afce-aef59d36597a",
   "metadata": {},
   "outputs": [
    {
     "data": {
      "image/png": "[encoded data removed]",
      "text/plain": [
       "<Figure size 640x480 with 1 Axes>"
      ]
     },
     "metadata": {},
     "output_type": "display_data"
    }
   ],
   "source": [
    "# Bar chart command assigned to Bar object in Jupyter\n",
    "\n",
    "bar = df['orders_day_of_week'].value_counts().sort_index().plot.bar(color =['purple', 'red', 'pink', 'orange', 'yellow', 'green', 'blue'])"
   ]
  },
  {
   "cell_type": "code",
   "execution_count": 13,
   "id": "0e433b13-6bdc-4b88-b49f-392e0f7d0d30",
   "metadata": {},
   "outputs": [],
   "source": [
    "# Bar chart command to export bar chart object (bar.figure) outside of Jupyter - figure.savefig() function\n",
    "\n",
    "bar.figure.savefig(os.path.join(path, '04 Analysis','Visualizations', 'bar_orders_dow.png'))"
   ]
  },
  {
   "cell_type": "markdown",
   "id": "046fdf07-9331-490b-8556-939d81f1bb1d",
   "metadata": {},
   "source": [
    "### 04. Histograms & Scatterplots"
   ]
  },
  {
   "cell_type": "code",
   "execution_count": 10,
   "id": "2014602c-893d-493b-acb4-c942d16b1fda",
   "metadata": {},
   "outputs": [
    {
     "data": {
      "text/plain": [
       "<Axes: ylabel='Frequency'>"
      ]
     },
     "execution_count": 10,
     "metadata": {},
     "output_type": "execute_result"
    },
    {
     "data": {
      "image/png": "[encoded data removed]",
      "text/plain": [
       "<Figure size 640x480 with 1 Axes>"
      ]
     },
     "metadata": {},
     "output_type": "display_data"
    }
   ],
   "source": [
    "# Create a histogram for the 'prices' column (note: there are 656 records for 99999 and 4120 records for 14900)\n",
    "\n",
    "df['prices'].plot.hist(bins = 25)"
   ]
  },
  {
   "cell_type": "code",
   "execution_count": 11,
   "id": "44379fcb-37de-421b-80ff-5e6ae10e25be",
   "metadata": {},
   "outputs": [
    {
     "data": {
      "text/plain": [
       "count    30328763.00\n",
       "mean           11.98\n",
       "std           496.37\n",
       "min             1.00\n",
       "25%             4.20\n",
       "50%             7.40\n",
       "75%            11.30\n",
       "max         99999.00\n",
       "Name: prices, dtype: float64"
      ]
     },
     "execution_count": 11,
     "metadata": {},
     "output_type": "execute_result"
    }
   ],
   "source": [
    "# Unexpected chart output - review descriptive analysis of 'prices' column\n",
    "\n",
    "df['prices'].describe().round(2)"
   ]
  },
  {
   "cell_type": "markdown",
   "id": "86c55207-96ec-462f-b9c9-b19dd90dcedd",
   "metadata": {},
   "source": [
    "#### Max outlier of 99999 is breaking the chart. Use scatterplot to identify outliers."
   ]
  },
  {
   "cell_type": "code",
   "execution_count": 12,
   "id": "ee8acf5a-79b9-4a79-933a-57f63f39c2da",
   "metadata": {},
   "outputs": [
    {
     "data": {
      "text/plain": [
       "<Axes: xlabel='prices', ylabel='prices'>"
      ]
     },
     "execution_count": 12,
     "metadata": {},
     "output_type": "execute_result"
    },
    {
     "data": {
      "image/png": "[encoded data removed]",
      "text/plain": [
       "<Figure size 640x480 with 1 Axes>"
      ]
     },
     "metadata": {},
     "output_type": "display_data"
    }
   ],
   "source": [
    "# Create a scatterplot for the 'prices' column\n",
    "\n",
    "sns.scatterplot(x = 'prices', y = 'prices',data = df)"
   ]
  },
  {
   "cell_type": "code",
   "execution_count": 13,
   "id": "7220a55b-c854-4812-9ab7-c5ec76e484b7",
   "metadata": {},
   "outputs": [],
   "source": [
    "# Tell pandas not to truncate columns\n",
    "pd.set_option('display.max_columns', None)"
   ]
  },
  {
   "cell_type": "code",
   "execution_count": 14,
   "id": "3271fbde-1b7c-4ab3-a7fb-471e91d75d3f",
   "metadata": {},
   "outputs": [
    {
     "data": {
      "text/html": [
       "<div>\n",
       "<style scoped>\n",
       "    .dataframe tbody tr th:only-of-type {\n",
       "        vertical-align: middle;\n",
       "    }\n",
       "\n",
       "    .dataframe tbody tr th {\n",
       "        vertical-align: top;\n",
       "    }\n",
       "\n",
       "    .dataframe thead th {\n",
       "        text-align: right;\n",
       "    }\n",
       "</style>\n",
       "<table border=\"1\" class=\"dataframe\">\n",
       "  <thead>\n",
       "    <tr style=\"text-align: right;\">\n",
       "      <th></th>\n",
       "      <th>order_id</th>\n",
       "      <th>user_id</th>\n",
       "      <th>order_number</th>\n",
       "      <th>orders_day_of_week</th>\n",
       "      <th>order_hour_of_day</th>\n",
       "      <th>days_since_prior_order</th>\n",
       "      <th>product_id</th>\n",
       "      <th>add_to_cart_order</th>\n",
       "      <th>reordered</th>\n",
       "      <th>product_name</th>\n",
       "      <th>aisle_id</th>\n",
       "      <th>department_id</th>\n",
       "      <th>prices</th>\n",
       "      <th>_merge</th>\n",
       "      <th>price_range</th>\n",
       "      <th>busiest_days</th>\n",
       "      <th>busiest_period_of_day</th>\n",
       "      <th>max_order</th>\n",
       "      <th>loyalty_flag</th>\n",
       "      <th>avg_prices</th>\n",
       "      <th>spending_flag</th>\n",
       "      <th>median_days</th>\n",
       "      <th>order_freq_flag</th>\n",
       "    </tr>\n",
       "  </thead>\n",
       "  <tbody>\n",
       "    <tr>\n",
       "      <th>1413</th>\n",
       "      <td>912404</td>\n",
       "      <td>17</td>\n",
       "      <td>12</td>\n",
       "      <td>2</td>\n",
       "      <td>14</td>\n",
       "      <td>5.0</td>\n",
       "      <td>21553</td>\n",
       "      <td>5</td>\n",
       "      <td>0</td>\n",
       "      <td>Lowfat 2% Milkfat Cottage Cheese</td>\n",
       "      <td>108</td>\n",
       "      <td>16</td>\n",
       "      <td>14900.0</td>\n",
       "      <td>both</td>\n",
       "      <td>High-range product</td>\n",
       "      <td>Regularly busy</td>\n",
       "      <td>Most orders</td>\n",
       "      <td>40</td>\n",
       "      <td>Regular customer</td>\n",
       "      <td>109.670103</td>\n",
       "      <td>High Spender</td>\n",
       "      <td>5.0</td>\n",
       "      <td>Frequent customer</td>\n",
       "    </tr>\n",
       "    <tr>\n",
       "      <th>1475</th>\n",
       "      <td>603376</td>\n",
       "      <td>17</td>\n",
       "      <td>22</td>\n",
       "      <td>6</td>\n",
       "      <td>16</td>\n",
       "      <td>4.0</td>\n",
       "      <td>21553</td>\n",
       "      <td>3</td>\n",
       "      <td>1</td>\n",
       "      <td>Lowfat 2% Milkfat Cottage Cheese</td>\n",
       "      <td>108</td>\n",
       "      <td>16</td>\n",
       "      <td>14900.0</td>\n",
       "      <td>both</td>\n",
       "      <td>High-range product</td>\n",
       "      <td>Regularly busy</td>\n",
       "      <td>Most orders</td>\n",
       "      <td>40</td>\n",
       "      <td>Regular customer</td>\n",
       "      <td>109.670103</td>\n",
       "      <td>High Spender</td>\n",
       "      <td>5.0</td>\n",
       "      <td>Frequent customer</td>\n",
       "    </tr>\n",
       "    <tr>\n",
       "      <th>15303</th>\n",
       "      <td>3264360</td>\n",
       "      <td>135</td>\n",
       "      <td>2</td>\n",
       "      <td>2</td>\n",
       "      <td>21</td>\n",
       "      <td>13.0</td>\n",
       "      <td>21553</td>\n",
       "      <td>6</td>\n",
       "      <td>0</td>\n",
       "      <td>Lowfat 2% Milkfat Cottage Cheese</td>\n",
       "      <td>108</td>\n",
       "      <td>16</td>\n",
       "      <td>14900.0</td>\n",
       "      <td>both</td>\n",
       "      <td>High-range product</td>\n",
       "      <td>Regularly busy</td>\n",
       "      <td>Average orders</td>\n",
       "      <td>4</td>\n",
       "      <td>New customer</td>\n",
       "      <td>1250.245833</td>\n",
       "      <td>High Spender</td>\n",
       "      <td>12.0</td>\n",
       "      <td>Regular customer</td>\n",
       "    </tr>\n",
       "    <tr>\n",
       "      <th>15309</th>\n",
       "      <td>892534</td>\n",
       "      <td>135</td>\n",
       "      <td>3</td>\n",
       "      <td>0</td>\n",
       "      <td>8</td>\n",
       "      <td>12.0</td>\n",
       "      <td>21553</td>\n",
       "      <td>3</td>\n",
       "      <td>1</td>\n",
       "      <td>Lowfat 2% Milkfat Cottage Cheese</td>\n",
       "      <td>108</td>\n",
       "      <td>16</td>\n",
       "      <td>14900.0</td>\n",
       "      <td>both</td>\n",
       "      <td>High-range product</td>\n",
       "      <td>Busiest day</td>\n",
       "      <td>Average orders</td>\n",
       "      <td>4</td>\n",
       "      <td>New customer</td>\n",
       "      <td>1250.245833</td>\n",
       "      <td>High Spender</td>\n",
       "      <td>12.0</td>\n",
       "      <td>Regular customer</td>\n",
       "    </tr>\n",
       "    <tr>\n",
       "      <th>50270</th>\n",
       "      <td>229704</td>\n",
       "      <td>342</td>\n",
       "      <td>8</td>\n",
       "      <td>1</td>\n",
       "      <td>19</td>\n",
       "      <td>30.0</td>\n",
       "      <td>21553</td>\n",
       "      <td>9</td>\n",
       "      <td>0</td>\n",
       "      <td>Lowfat 2% Milkfat Cottage Cheese</td>\n",
       "      <td>108</td>\n",
       "      <td>16</td>\n",
       "      <td>14900.0</td>\n",
       "      <td>both</td>\n",
       "      <td>High-range product</td>\n",
       "      <td>Busiest day</td>\n",
       "      <td>Average orders</td>\n",
       "      <td>16</td>\n",
       "      <td>Regular customer</td>\n",
       "      <td>120.090909</td>\n",
       "      <td>High Spender</td>\n",
       "      <td>23.0</td>\n",
       "      <td>Non-frequent customer</td>\n",
       "    </tr>\n",
       "    <tr>\n",
       "      <th>...</th>\n",
       "      <td>...</td>\n",
       "      <td>...</td>\n",
       "      <td>...</td>\n",
       "      <td>...</td>\n",
       "      <td>...</td>\n",
       "      <td>...</td>\n",
       "      <td>...</td>\n",
       "      <td>...</td>\n",
       "      <td>...</td>\n",
       "      <td>...</td>\n",
       "      <td>...</td>\n",
       "      <td>...</td>\n",
       "      <td>...</td>\n",
       "      <td>...</td>\n",
       "      <td>...</td>\n",
       "      <td>...</td>\n",
       "      <td>...</td>\n",
       "      <td>...</td>\n",
       "      <td>...</td>\n",
       "      <td>...</td>\n",
       "      <td>...</td>\n",
       "      <td>...</td>\n",
       "      <td>...</td>\n",
       "    </tr>\n",
       "    <tr>\n",
       "      <th>30249828</th>\n",
       "      <td>1039454</td>\n",
       "      <td>205650</td>\n",
       "      <td>15</td>\n",
       "      <td>1</td>\n",
       "      <td>10</td>\n",
       "      <td>7.0</td>\n",
       "      <td>21553</td>\n",
       "      <td>6</td>\n",
       "      <td>1</td>\n",
       "      <td>Lowfat 2% Milkfat Cottage Cheese</td>\n",
       "      <td>108</td>\n",
       "      <td>16</td>\n",
       "      <td>14900.0</td>\n",
       "      <td>both</td>\n",
       "      <td>High-range product</td>\n",
       "      <td>Busiest day</td>\n",
       "      <td>Most orders</td>\n",
       "      <td>25</td>\n",
       "      <td>Regular customer</td>\n",
       "      <td>358.255457</td>\n",
       "      <td>High Spender</td>\n",
       "      <td>6.0</td>\n",
       "      <td>Frequent customer</td>\n",
       "    </tr>\n",
       "    <tr>\n",
       "      <th>30249874</th>\n",
       "      <td>3172853</td>\n",
       "      <td>205650</td>\n",
       "      <td>18</td>\n",
       "      <td>1</td>\n",
       "      <td>9</td>\n",
       "      <td>7.0</td>\n",
       "      <td>21553</td>\n",
       "      <td>17</td>\n",
       "      <td>1</td>\n",
       "      <td>Lowfat 2% Milkfat Cottage Cheese</td>\n",
       "      <td>108</td>\n",
       "      <td>16</td>\n",
       "      <td>14900.0</td>\n",
       "      <td>both</td>\n",
       "      <td>High-range product</td>\n",
       "      <td>Busiest day</td>\n",
       "      <td>Most orders</td>\n",
       "      <td>25</td>\n",
       "      <td>Regular customer</td>\n",
       "      <td>358.255457</td>\n",
       "      <td>High Spender</td>\n",
       "      <td>6.0</td>\n",
       "      <td>Frequent customer</td>\n",
       "    </tr>\n",
       "    <tr>\n",
       "      <th>30275410</th>\n",
       "      <td>2504315</td>\n",
       "      <td>205818</td>\n",
       "      <td>3</td>\n",
       "      <td>5</td>\n",
       "      <td>15</td>\n",
       "      <td>3.0</td>\n",
       "      <td>21553</td>\n",
       "      <td>13</td>\n",
       "      <td>0</td>\n",
       "      <td>Lowfat 2% Milkfat Cottage Cheese</td>\n",
       "      <td>108</td>\n",
       "      <td>16</td>\n",
       "      <td>14900.0</td>\n",
       "      <td>both</td>\n",
       "      <td>High-range product</td>\n",
       "      <td>Regularly busy</td>\n",
       "      <td>Most orders</td>\n",
       "      <td>25</td>\n",
       "      <td>Regular customer</td>\n",
       "      <td>173.751955</td>\n",
       "      <td>High Spender</td>\n",
       "      <td>13.0</td>\n",
       "      <td>Regular customer</td>\n",
       "    </tr>\n",
       "    <tr>\n",
       "      <th>30275420</th>\n",
       "      <td>1108388</td>\n",
       "      <td>205818</td>\n",
       "      <td>5</td>\n",
       "      <td>4</td>\n",
       "      <td>5</td>\n",
       "      <td>1.0</td>\n",
       "      <td>21553</td>\n",
       "      <td>5</td>\n",
       "      <td>1</td>\n",
       "      <td>Lowfat 2% Milkfat Cottage Cheese</td>\n",
       "      <td>108</td>\n",
       "      <td>16</td>\n",
       "      <td>14900.0</td>\n",
       "      <td>both</td>\n",
       "      <td>High-range product</td>\n",
       "      <td>Least busy</td>\n",
       "      <td>Fewest orders</td>\n",
       "      <td>25</td>\n",
       "      <td>Regular customer</td>\n",
       "      <td>173.751955</td>\n",
       "      <td>High Spender</td>\n",
       "      <td>13.0</td>\n",
       "      <td>Regular customer</td>\n",
       "    </tr>\n",
       "    <tr>\n",
       "      <th>30306033</th>\n",
       "      <td>379732</td>\n",
       "      <td>206049</td>\n",
       "      <td>4</td>\n",
       "      <td>1</td>\n",
       "      <td>14</td>\n",
       "      <td>5.0</td>\n",
       "      <td>21553</td>\n",
       "      <td>4</td>\n",
       "      <td>1</td>\n",
       "      <td>Lowfat 2% Milkfat Cottage Cheese</td>\n",
       "      <td>108</td>\n",
       "      <td>16</td>\n",
       "      <td>14900.0</td>\n",
       "      <td>both</td>\n",
       "      <td>High-range product</td>\n",
       "      <td>Busiest day</td>\n",
       "      <td>Most orders</td>\n",
       "      <td>5</td>\n",
       "      <td>New customer</td>\n",
       "      <td>580.323077</td>\n",
       "      <td>High Spender</td>\n",
       "      <td>7.0</td>\n",
       "      <td>Frequent customer</td>\n",
       "    </tr>\n",
       "  </tbody>\n",
       "</table>\n",
       "<p>4776 rows × 23 columns</p>\n",
       "</div>"
      ],
      "text/plain": [
       "         order_id user_id  order_number  orders_day_of_week  \\\n",
       "1413       912404      17            12                   2   \n",
       "1475       603376      17            22                   6   \n",
       "15303     3264360     135             2                   2   \n",
       "15309      892534     135             3                   0   \n",
       "50270      229704     342             8                   1   \n",
       "...           ...     ...           ...                 ...   \n",
       "30249828  1039454  205650            15                   1   \n",
       "30249874  3172853  205650            18                   1   \n",
       "30275410  2504315  205818             3                   5   \n",
       "30275420  1108388  205818             5                   4   \n",
       "30306033   379732  206049             4                   1   \n",
       "\n",
       "          order_hour_of_day  days_since_prior_order product_id  \\\n",
       "1413                     14                     5.0      21553   \n",
       "1475                     16                     4.0      21553   \n",
       "15303                    21                    13.0      21553   \n",
       "15309                     8                    12.0      21553   \n",
       "50270                    19                    30.0      21553   \n",
       "...                     ...                     ...        ...   \n",
       "30249828                 10                     7.0      21553   \n",
       "30249874                  9                     7.0      21553   \n",
       "30275410                 15                     3.0      21553   \n",
       "30275420                  5                     1.0      21553   \n",
       "30306033                 14                     5.0      21553   \n",
       "\n",
       "          add_to_cart_order  reordered                      product_name  \\\n",
       "1413                      5          0  Lowfat 2% Milkfat Cottage Cheese   \n",
       "1475                      3          1  Lowfat 2% Milkfat Cottage Cheese   \n",
       "15303                     6          0  Lowfat 2% Milkfat Cottage Cheese   \n",
       "15309                     3          1  Lowfat 2% Milkfat Cottage Cheese   \n",
       "50270                     9          0  Lowfat 2% Milkfat Cottage Cheese   \n",
       "...                     ...        ...                               ...   \n",
       "30249828                  6          1  Lowfat 2% Milkfat Cottage Cheese   \n",
       "30249874                 17          1  Lowfat 2% Milkfat Cottage Cheese   \n",
       "30275410                 13          0  Lowfat 2% Milkfat Cottage Cheese   \n",
       "30275420                  5          1  Lowfat 2% Milkfat Cottage Cheese   \n",
       "30306033                  4          1  Lowfat 2% Milkfat Cottage Cheese   \n",
       "\n",
       "         aisle_id department_id   prices _merge         price_range  \\\n",
       "1413          108            16  14900.0   both  High-range product   \n",
       "1475          108            16  14900.0   both  High-range product   \n",
       "15303         108            16  14900.0   both  High-range product   \n",
       "15309         108            16  14900.0   both  High-range product   \n",
       "50270         108            16  14900.0   both  High-range product   \n",
       "...           ...           ...      ...    ...                 ...   \n",
       "30249828      108            16  14900.0   both  High-range product   \n",
       "30249874      108            16  14900.0   both  High-range product   \n",
       "30275410      108            16  14900.0   both  High-range product   \n",
       "30275420      108            16  14900.0   both  High-range product   \n",
       "30306033      108            16  14900.0   both  High-range product   \n",
       "\n",
       "            busiest_days busiest_period_of_day  max_order      loyalty_flag  \\\n",
       "1413      Regularly busy           Most orders         40  Regular customer   \n",
       "1475      Regularly busy           Most orders         40  Regular customer   \n",
       "15303     Regularly busy        Average orders          4      New customer   \n",
       "15309        Busiest day        Average orders          4      New customer   \n",
       "50270        Busiest day        Average orders         16  Regular customer   \n",
       "...                  ...                   ...        ...               ...   \n",
       "30249828     Busiest day           Most orders         25  Regular customer   \n",
       "30249874     Busiest day           Most orders         25  Regular customer   \n",
       "30275410  Regularly busy           Most orders         25  Regular customer   \n",
       "30275420      Least busy         Fewest orders         25  Regular customer   \n",
       "30306033     Busiest day           Most orders          5      New customer   \n",
       "\n",
       "           avg_prices spending_flag  median_days        order_freq_flag  \n",
       "1413       109.670103  High Spender          5.0      Frequent customer  \n",
       "1475       109.670103  High Spender          5.0      Frequent customer  \n",
       "15303     1250.245833  High Spender         12.0       Regular customer  \n",
       "15309     1250.245833  High Spender         12.0       Regular customer  \n",
       "50270      120.090909  High Spender         23.0  Non-frequent customer  \n",
       "...               ...           ...          ...                    ...  \n",
       "30249828   358.255457  High Spender          6.0      Frequent customer  \n",
       "30249874   358.255457  High Spender          6.0      Frequent customer  \n",
       "30275410   173.751955  High Spender         13.0       Regular customer  \n",
       "30275420   173.751955  High Spender         13.0       Regular customer  \n",
       "30306033   580.323077  High Spender          7.0      Frequent customer  \n",
       "\n",
       "[4776 rows x 23 columns]"
      ]
     },
     "execution_count": 14,
     "metadata": {},
     "output_type": "execute_result"
    }
   ],
   "source": [
    "# Display outlier records - use > 100 as threshold\n",
    "\n",
    "df.loc[df['prices'] > 100]"
   ]
  },
  {
   "cell_type": "code",
   "execution_count": 15,
   "id": "6b85c80d-d3cd-4ec3-832c-20b027b628ee",
   "metadata": {},
   "outputs": [],
   "source": [
    "# Mark inconsistent values as missing (NaN)\n",
    "\n",
    "df.loc[df['prices'] >100, 'prices'] = np.nan"
   ]
  },
  {
   "cell_type": "code",
   "execution_count": 16,
   "id": "23f6debe-465f-4080-9e68-671bb272fb8a",
   "metadata": {},
   "outputs": [
    {
     "data": {
      "text/plain": [
       "25.0"
      ]
     },
     "execution_count": 16,
     "metadata": {},
     "output_type": "execute_result"
    }
   ],
   "source": [
    "# Check max() value for 'prices' now\n",
    "\n",
    "df['prices'].max()"
   ]
  },
  {
   "cell_type": "code",
   "execution_count": 17,
   "id": "081c0097-1fb3-48b7-b1ed-a8d534e28531",
   "metadata": {},
   "outputs": [
    {
     "data": {
      "image/png": "[encoded data removed]",
      "text/plain": [
       "<Figure size 640x480 with 1 Axes>"
      ]
     },
     "metadata": {},
     "output_type": "display_data"
    }
   ],
   "source": [
    "# Retry running histogram chart again\n",
    "\n",
    "hist = df['prices'].plot.hist(bins = 25)"
   ]
  },
  {
   "cell_type": "code",
   "execution_count": 18,
   "id": "90d21a59-bb7c-41bc-b0fc-0188683baea8",
   "metadata": {},
   "outputs": [
    {
     "data": {
      "image/png": "[encoded data removed]",
      "text/plain": [
       "<Figure size 640x480 with 1 Axes>"
      ]
     },
     "metadata": {},
     "output_type": "display_data"
    }
   ],
   "source": [
    "# Increase level of granularity to 70 for more, thinner columns\n",
    "\n",
    "hist = df['prices'].plot.hist(bins = 70)"
   ]
  },
  {
   "cell_type": "code",
   "execution_count": 19,
   "id": "065c7270-da4d-490a-90aa-eac363914514",
   "metadata": {},
   "outputs": [],
   "source": [
    "# Export histogram chart image\n",
    "\n",
    "hist.figure.savefig(os.path.join(path, '04 Analysis','Visualizations', 'hist_prices.png'))"
   ]
  },
  {
   "cell_type": "markdown",
   "id": "25357454-10fc-4ec2-aa49-c115265c3f56",
   "metadata": {},
   "source": [
    "#### Check and Remove NaN records just labeled in prices"
   ]
  },
  {
   "cell_type": "code",
   "execution_count": 20,
   "id": "06fe2fbd-ade9-4cf4-976c-2b11d5941898",
   "metadata": {},
   "outputs": [
    {
     "data": {
      "text/html": [
       "<div>\n",
       "<style scoped>\n",
       "    .dataframe tbody tr th:only-of-type {\n",
       "        vertical-align: middle;\n",
       "    }\n",
       "\n",
       "    .dataframe tbody tr th {\n",
       "        vertical-align: top;\n",
       "    }\n",
       "\n",
       "    .dataframe thead th {\n",
       "        text-align: right;\n",
       "    }\n",
       "</style>\n",
       "<table border=\"1\" class=\"dataframe\">\n",
       "  <thead>\n",
       "    <tr style=\"text-align: right;\">\n",
       "      <th></th>\n",
       "      <th>order_id</th>\n",
       "      <th>user_id</th>\n",
       "      <th>order_number</th>\n",
       "      <th>orders_day_of_week</th>\n",
       "      <th>order_hour_of_day</th>\n",
       "      <th>days_since_prior_order</th>\n",
       "      <th>product_id</th>\n",
       "      <th>add_to_cart_order</th>\n",
       "      <th>reordered</th>\n",
       "      <th>product_name</th>\n",
       "      <th>aisle_id</th>\n",
       "      <th>department_id</th>\n",
       "      <th>prices</th>\n",
       "      <th>_merge</th>\n",
       "      <th>price_range</th>\n",
       "      <th>busiest_days</th>\n",
       "      <th>busiest_period_of_day</th>\n",
       "      <th>max_order</th>\n",
       "      <th>loyalty_flag</th>\n",
       "      <th>avg_prices</th>\n",
       "      <th>spending_flag</th>\n",
       "      <th>median_days</th>\n",
       "      <th>order_freq_flag</th>\n",
       "    </tr>\n",
       "  </thead>\n",
       "  <tbody>\n",
       "    <tr>\n",
       "      <th>1413</th>\n",
       "      <td>912404</td>\n",
       "      <td>17</td>\n",
       "      <td>12</td>\n",
       "      <td>2</td>\n",
       "      <td>14</td>\n",
       "      <td>5.0</td>\n",
       "      <td>21553</td>\n",
       "      <td>5</td>\n",
       "      <td>0</td>\n",
       "      <td>Lowfat 2% Milkfat Cottage Cheese</td>\n",
       "      <td>108</td>\n",
       "      <td>16</td>\n",
       "      <td>NaN</td>\n",
       "      <td>both</td>\n",
       "      <td>High-range product</td>\n",
       "      <td>Regularly busy</td>\n",
       "      <td>Most orders</td>\n",
       "      <td>40</td>\n",
       "      <td>Regular customer</td>\n",
       "      <td>109.670103</td>\n",
       "      <td>High Spender</td>\n",
       "      <td>5.0</td>\n",
       "      <td>Frequent customer</td>\n",
       "    </tr>\n",
       "    <tr>\n",
       "      <th>1475</th>\n",
       "      <td>603376</td>\n",
       "      <td>17</td>\n",
       "      <td>22</td>\n",
       "      <td>6</td>\n",
       "      <td>16</td>\n",
       "      <td>4.0</td>\n",
       "      <td>21553</td>\n",
       "      <td>3</td>\n",
       "      <td>1</td>\n",
       "      <td>Lowfat 2% Milkfat Cottage Cheese</td>\n",
       "      <td>108</td>\n",
       "      <td>16</td>\n",
       "      <td>NaN</td>\n",
       "      <td>both</td>\n",
       "      <td>High-range product</td>\n",
       "      <td>Regularly busy</td>\n",
       "      <td>Most orders</td>\n",
       "      <td>40</td>\n",
       "      <td>Regular customer</td>\n",
       "      <td>109.670103</td>\n",
       "      <td>High Spender</td>\n",
       "      <td>5.0</td>\n",
       "      <td>Frequent customer</td>\n",
       "    </tr>\n",
       "    <tr>\n",
       "      <th>15303</th>\n",
       "      <td>3264360</td>\n",
       "      <td>135</td>\n",
       "      <td>2</td>\n",
       "      <td>2</td>\n",
       "      <td>21</td>\n",
       "      <td>13.0</td>\n",
       "      <td>21553</td>\n",
       "      <td>6</td>\n",
       "      <td>0</td>\n",
       "      <td>Lowfat 2% Milkfat Cottage Cheese</td>\n",
       "      <td>108</td>\n",
       "      <td>16</td>\n",
       "      <td>NaN</td>\n",
       "      <td>both</td>\n",
       "      <td>High-range product</td>\n",
       "      <td>Regularly busy</td>\n",
       "      <td>Average orders</td>\n",
       "      <td>4</td>\n",
       "      <td>New customer</td>\n",
       "      <td>1250.245833</td>\n",
       "      <td>High Spender</td>\n",
       "      <td>12.0</td>\n",
       "      <td>Regular customer</td>\n",
       "    </tr>\n",
       "    <tr>\n",
       "      <th>15309</th>\n",
       "      <td>892534</td>\n",
       "      <td>135</td>\n",
       "      <td>3</td>\n",
       "      <td>0</td>\n",
       "      <td>8</td>\n",
       "      <td>12.0</td>\n",
       "      <td>21553</td>\n",
       "      <td>3</td>\n",
       "      <td>1</td>\n",
       "      <td>Lowfat 2% Milkfat Cottage Cheese</td>\n",
       "      <td>108</td>\n",
       "      <td>16</td>\n",
       "      <td>NaN</td>\n",
       "      <td>both</td>\n",
       "      <td>High-range product</td>\n",
       "      <td>Busiest day</td>\n",
       "      <td>Average orders</td>\n",
       "      <td>4</td>\n",
       "      <td>New customer</td>\n",
       "      <td>1250.245833</td>\n",
       "      <td>High Spender</td>\n",
       "      <td>12.0</td>\n",
       "      <td>Regular customer</td>\n",
       "    </tr>\n",
       "    <tr>\n",
       "      <th>50270</th>\n",
       "      <td>229704</td>\n",
       "      <td>342</td>\n",
       "      <td>8</td>\n",
       "      <td>1</td>\n",
       "      <td>19</td>\n",
       "      <td>30.0</td>\n",
       "      <td>21553</td>\n",
       "      <td>9</td>\n",
       "      <td>0</td>\n",
       "      <td>Lowfat 2% Milkfat Cottage Cheese</td>\n",
       "      <td>108</td>\n",
       "      <td>16</td>\n",
       "      <td>NaN</td>\n",
       "      <td>both</td>\n",
       "      <td>High-range product</td>\n",
       "      <td>Busiest day</td>\n",
       "      <td>Average orders</td>\n",
       "      <td>16</td>\n",
       "      <td>Regular customer</td>\n",
       "      <td>120.090909</td>\n",
       "      <td>High Spender</td>\n",
       "      <td>23.0</td>\n",
       "      <td>Non-frequent customer</td>\n",
       "    </tr>\n",
       "    <tr>\n",
       "      <th>...</th>\n",
       "      <td>...</td>\n",
       "      <td>...</td>\n",
       "      <td>...</td>\n",
       "      <td>...</td>\n",
       "      <td>...</td>\n",
       "      <td>...</td>\n",
       "      <td>...</td>\n",
       "      <td>...</td>\n",
       "      <td>...</td>\n",
       "      <td>...</td>\n",
       "      <td>...</td>\n",
       "      <td>...</td>\n",
       "      <td>...</td>\n",
       "      <td>...</td>\n",
       "      <td>...</td>\n",
       "      <td>...</td>\n",
       "      <td>...</td>\n",
       "      <td>...</td>\n",
       "      <td>...</td>\n",
       "      <td>...</td>\n",
       "      <td>...</td>\n",
       "      <td>...</td>\n",
       "      <td>...</td>\n",
       "    </tr>\n",
       "    <tr>\n",
       "      <th>30249828</th>\n",
       "      <td>1039454</td>\n",
       "      <td>205650</td>\n",
       "      <td>15</td>\n",
       "      <td>1</td>\n",
       "      <td>10</td>\n",
       "      <td>7.0</td>\n",
       "      <td>21553</td>\n",
       "      <td>6</td>\n",
       "      <td>1</td>\n",
       "      <td>Lowfat 2% Milkfat Cottage Cheese</td>\n",
       "      <td>108</td>\n",
       "      <td>16</td>\n",
       "      <td>NaN</td>\n",
       "      <td>both</td>\n",
       "      <td>High-range product</td>\n",
       "      <td>Busiest day</td>\n",
       "      <td>Most orders</td>\n",
       "      <td>25</td>\n",
       "      <td>Regular customer</td>\n",
       "      <td>358.255457</td>\n",
       "      <td>High Spender</td>\n",
       "      <td>6.0</td>\n",
       "      <td>Frequent customer</td>\n",
       "    </tr>\n",
       "    <tr>\n",
       "      <th>30249874</th>\n",
       "      <td>3172853</td>\n",
       "      <td>205650</td>\n",
       "      <td>18</td>\n",
       "      <td>1</td>\n",
       "      <td>9</td>\n",
       "      <td>7.0</td>\n",
       "      <td>21553</td>\n",
       "      <td>17</td>\n",
       "      <td>1</td>\n",
       "      <td>Lowfat 2% Milkfat Cottage Cheese</td>\n",
       "      <td>108</td>\n",
       "      <td>16</td>\n",
       "      <td>NaN</td>\n",
       "      <td>both</td>\n",
       "      <td>High-range product</td>\n",
       "      <td>Busiest day</td>\n",
       "      <td>Most orders</td>\n",
       "      <td>25</td>\n",
       "      <td>Regular customer</td>\n",
       "      <td>358.255457</td>\n",
       "      <td>High Spender</td>\n",
       "      <td>6.0</td>\n",
       "      <td>Frequent customer</td>\n",
       "    </tr>\n",
       "    <tr>\n",
       "      <th>30275410</th>\n",
       "      <td>2504315</td>\n",
       "      <td>205818</td>\n",
       "      <td>3</td>\n",
       "      <td>5</td>\n",
       "      <td>15</td>\n",
       "      <td>3.0</td>\n",
       "      <td>21553</td>\n",
       "      <td>13</td>\n",
       "      <td>0</td>\n",
       "      <td>Lowfat 2% Milkfat Cottage Cheese</td>\n",
       "      <td>108</td>\n",
       "      <td>16</td>\n",
       "      <td>NaN</td>\n",
       "      <td>both</td>\n",
       "      <td>High-range product</td>\n",
       "      <td>Regularly busy</td>\n",
       "      <td>Most orders</td>\n",
       "      <td>25</td>\n",
       "      <td>Regular customer</td>\n",
       "      <td>173.751955</td>\n",
       "      <td>High Spender</td>\n",
       "      <td>13.0</td>\n",
       "      <td>Regular customer</td>\n",
       "    </tr>\n",
       "    <tr>\n",
       "      <th>30275420</th>\n",
       "      <td>1108388</td>\n",
       "      <td>205818</td>\n",
       "      <td>5</td>\n",
       "      <td>4</td>\n",
       "      <td>5</td>\n",
       "      <td>1.0</td>\n",
       "      <td>21553</td>\n",
       "      <td>5</td>\n",
       "      <td>1</td>\n",
       "      <td>Lowfat 2% Milkfat Cottage Cheese</td>\n",
       "      <td>108</td>\n",
       "      <td>16</td>\n",
       "      <td>NaN</td>\n",
       "      <td>both</td>\n",
       "      <td>High-range product</td>\n",
       "      <td>Least busy</td>\n",
       "      <td>Fewest orders</td>\n",
       "      <td>25</td>\n",
       "      <td>Regular customer</td>\n",
       "      <td>173.751955</td>\n",
       "      <td>High Spender</td>\n",
       "      <td>13.0</td>\n",
       "      <td>Regular customer</td>\n",
       "    </tr>\n",
       "    <tr>\n",
       "      <th>30306033</th>\n",
       "      <td>379732</td>\n",
       "      <td>206049</td>\n",
       "      <td>4</td>\n",
       "      <td>1</td>\n",
       "      <td>14</td>\n",
       "      <td>5.0</td>\n",
       "      <td>21553</td>\n",
       "      <td>4</td>\n",
       "      <td>1</td>\n",
       "      <td>Lowfat 2% Milkfat Cottage Cheese</td>\n",
       "      <td>108</td>\n",
       "      <td>16</td>\n",
       "      <td>NaN</td>\n",
       "      <td>both</td>\n",
       "      <td>High-range product</td>\n",
       "      <td>Busiest day</td>\n",
       "      <td>Most orders</td>\n",
       "      <td>5</td>\n",
       "      <td>New customer</td>\n",
       "      <td>580.323077</td>\n",
       "      <td>High Spender</td>\n",
       "      <td>7.0</td>\n",
       "      <td>Frequent customer</td>\n",
       "    </tr>\n",
       "  </tbody>\n",
       "</table>\n",
       "<p>4776 rows × 23 columns</p>\n",
       "</div>"
      ],
      "text/plain": [
       "         order_id user_id  order_number  orders_day_of_week  \\\n",
       "1413       912404      17            12                   2   \n",
       "1475       603376      17            22                   6   \n",
       "15303     3264360     135             2                   2   \n",
       "15309      892534     135             3                   0   \n",
       "50270      229704     342             8                   1   \n",
       "...           ...     ...           ...                 ...   \n",
       "30249828  1039454  205650            15                   1   \n",
       "30249874  3172853  205650            18                   1   \n",
       "30275410  2504315  205818             3                   5   \n",
       "30275420  1108388  205818             5                   4   \n",
       "30306033   379732  206049             4                   1   \n",
       "\n",
       "          order_hour_of_day  days_since_prior_order product_id  \\\n",
       "1413                     14                     5.0      21553   \n",
       "1475                     16                     4.0      21553   \n",
       "15303                    21                    13.0      21553   \n",
       "15309                     8                    12.0      21553   \n",
       "50270                    19                    30.0      21553   \n",
       "...                     ...                     ...        ...   \n",
       "30249828                 10                     7.0      21553   \n",
       "30249874                  9                     7.0      21553   \n",
       "30275410                 15                     3.0      21553   \n",
       "30275420                  5                     1.0      21553   \n",
       "30306033                 14                     5.0      21553   \n",
       "\n",
       "          add_to_cart_order  reordered                      product_name  \\\n",
       "1413                      5          0  Lowfat 2% Milkfat Cottage Cheese   \n",
       "1475                      3          1  Lowfat 2% Milkfat Cottage Cheese   \n",
       "15303                     6          0  Lowfat 2% Milkfat Cottage Cheese   \n",
       "15309                     3          1  Lowfat 2% Milkfat Cottage Cheese   \n",
       "50270                     9          0  Lowfat 2% Milkfat Cottage Cheese   \n",
       "...                     ...        ...                               ...   \n",
       "30249828                  6          1  Lowfat 2% Milkfat Cottage Cheese   \n",
       "30249874                 17          1  Lowfat 2% Milkfat Cottage Cheese   \n",
       "30275410                 13          0  Lowfat 2% Milkfat Cottage Cheese   \n",
       "30275420                  5          1  Lowfat 2% Milkfat Cottage Cheese   \n",
       "30306033                  4          1  Lowfat 2% Milkfat Cottage Cheese   \n",
       "\n",
       "         aisle_id department_id  prices _merge         price_range  \\\n",
       "1413          108            16     NaN   both  High-range product   \n",
       "1475          108            16     NaN   both  High-range product   \n",
       "15303         108            16     NaN   both  High-range product   \n",
       "15309         108            16     NaN   both  High-range product   \n",
       "50270         108            16     NaN   both  High-range product   \n",
       "...           ...           ...     ...    ...                 ...   \n",
       "30249828      108            16     NaN   both  High-range product   \n",
       "30249874      108            16     NaN   both  High-range product   \n",
       "30275410      108            16     NaN   both  High-range product   \n",
       "30275420      108            16     NaN   both  High-range product   \n",
       "30306033      108            16     NaN   both  High-range product   \n",
       "\n",
       "            busiest_days busiest_period_of_day  max_order      loyalty_flag  \\\n",
       "1413      Regularly busy           Most orders         40  Regular customer   \n",
       "1475      Regularly busy           Most orders         40  Regular customer   \n",
       "15303     Regularly busy        Average orders          4      New customer   \n",
       "15309        Busiest day        Average orders          4      New customer   \n",
       "50270        Busiest day        Average orders         16  Regular customer   \n",
       "...                  ...                   ...        ...               ...   \n",
       "30249828     Busiest day           Most orders         25  Regular customer   \n",
       "30249874     Busiest day           Most orders         25  Regular customer   \n",
       "30275410  Regularly busy           Most orders         25  Regular customer   \n",
       "30275420      Least busy         Fewest orders         25  Regular customer   \n",
       "30306033     Busiest day           Most orders          5      New customer   \n",
       "\n",
       "           avg_prices spending_flag  median_days        order_freq_flag  \n",
       "1413       109.670103  High Spender          5.0      Frequent customer  \n",
       "1475       109.670103  High Spender          5.0      Frequent customer  \n",
       "15303     1250.245833  High Spender         12.0       Regular customer  \n",
       "15309     1250.245833  High Spender         12.0       Regular customer  \n",
       "50270      120.090909  High Spender         23.0  Non-frequent customer  \n",
       "...               ...           ...          ...                    ...  \n",
       "30249828   358.255457  High Spender          6.0      Frequent customer  \n",
       "30249874   358.255457  High Spender          6.0      Frequent customer  \n",
       "30275410   173.751955  High Spender         13.0       Regular customer  \n",
       "30275420   173.751955  High Spender         13.0       Regular customer  \n",
       "30306033   580.323077  High Spender          7.0      Frequent customer  \n",
       "\n",
       "[4776 rows x 23 columns]"
      ]
     },
     "execution_count": 20,
     "metadata": {},
     "output_type": "execute_result"
    }
   ],
   "source": [
    "# Check missing records in pricing (NaN)\n",
    "\n",
    "df_nan = df[df['prices'].isnull() == True]\n",
    "\n",
    "df_nan"
   ]
  },
  {
   "cell_type": "code",
   "execution_count": 21,
   "id": "bfdf67ca-ec81-40b5-8a9d-92c10e53ecaa",
   "metadata": {},
   "outputs": [
    {
     "data": {
      "text/plain": [
       "(30323987, 23)"
      ]
     },
     "execution_count": 21,
     "metadata": {},
     "output_type": "execute_result"
    }
   ],
   "source": [
    "# Create new dataframe df_price_clean\n",
    "\n",
    "df_price_clean = df[df['prices'].isnull() == False]\n",
    "\n",
    "# Display dimensions of df_price_clean - rows, columns\n",
    "\n",
    "df_price_clean.shape"
   ]
  },
  {
   "cell_type": "markdown",
   "id": "7d00b546-cdb4-4141-ba21-202aa49edac0",
   "metadata": {},
   "source": [
    "### 05. Sampling Data"
   ]
  },
  {
   "cell_type": "code",
   "execution_count": 22,
   "id": "efea6724-e43c-4ce6-8126-7cf3c9b0b39e",
   "metadata": {},
   "outputs": [],
   "source": [
    "# Create a sample subset to use for Line Chart computing\n",
    "# Create a list holding True/False values 70/30\n",
    "\n",
    "np.random.seed(4)\n",
    "dev = np.random.rand(len(df_price_clean)) <= 0.7"
   ]
  },
  {
   "cell_type": "code",
   "execution_count": 23,
   "id": "2dd8a720-b34f-4209-91a5-929c62d02c96",
   "metadata": {},
   "outputs": [],
   "source": [
    "# Store 70% of the sample in the dataframe big\n",
    "\n",
    "big = df_price_clean[dev]"
   ]
  },
  {
   "cell_type": "code",
   "execution_count": 24,
   "id": "a61821d0-a6cd-44ac-ae49-ec7b729377f8",
   "metadata": {},
   "outputs": [],
   "source": [
    "# Store 30% of the sample in the dataframe small\n",
    "\n",
    "small = df_price_clean[~dev]"
   ]
  },
  {
   "cell_type": "code",
   "execution_count": 25,
   "id": "f4b800af-9ca3-441a-9522-76c090e47a7e",
   "metadata": {},
   "outputs": [
    {
     "data": {
      "text/plain": [
       "30323987"
      ]
     },
     "execution_count": 25,
     "metadata": {},
     "output_type": "execute_result"
    }
   ],
   "source": [
    "# Check dataframes\n",
    "\n",
    "len(df_price_clean)"
   ]
  },
  {
   "cell_type": "code",
   "execution_count": 26,
   "id": "abe2c44a-11ba-4622-b409-5e078b8e3992",
   "metadata": {},
   "outputs": [
    {
     "data": {
      "text/plain": [
       "30323987"
      ]
     },
     "execution_count": 26,
     "metadata": {},
     "output_type": "execute_result"
    }
   ],
   "source": [
    "# Verify sample splits\n",
    "\n",
    "len(big) + len(small)"
   ]
  },
  {
   "cell_type": "code",
   "execution_count": 27,
   "id": "9a7f2a68-af46-43ea-8e08-2684b626daa2",
   "metadata": {},
   "outputs": [],
   "source": [
    "# Optimize processing by reducing sample set to only those columns necessary for the chart - prices, orders_day_of_week\n",
    "\n",
    "df_small = small[['orders_day_of_week','prices']]"
   ]
  },
  {
   "cell_type": "markdown",
   "id": "ed77f214-df2f-4e21-a5e0-134e76e4b54e",
   "metadata": {},
   "source": [
    "### 06. Line Chart"
   ]
  },
  {
   "cell_type": "code",
   "execution_count": 28,
   "id": "49e5d987-ed5b-4985-9f5d-1c5090f665bf",
   "metadata": {},
   "outputs": [
    {
     "name": "stderr",
     "output_type": "stream",
     "text": [
      "/opt/anaconda3/envs/cfinstacart/lib/python3.11/site-packages/seaborn/_oldcore.py:1119: FutureWarning: use_inf_as_na option is deprecated and will be removed in a future version. Convert inf values to NaN before operating instead.\n",
      "  with pd.option_context('mode.use_inf_as_na', True):\n",
      "/opt/anaconda3/envs/cfinstacart/lib/python3.11/site-packages/seaborn/_oldcore.py:1119: FutureWarning: use_inf_as_na option is deprecated and will be removed in a future version. Convert inf values to NaN before operating instead.\n",
      "  with pd.option_context('mode.use_inf_as_na', True):\n"
     ]
    },
    {
     "data": {
      "image/png": "[encoded data removed]",
      "text/plain": [
       "<Figure size 640x480 with 1 Axes>"
      ]
     },
     "metadata": {},
     "output_type": "display_data"
    }
   ],
   "source": [
    "# Use sample data created - small set - df_small\n",
    "# Create a line chart to show the development of the 'prices' column across the days of the week\n",
    "# Plot the 'order_day_of-week' column on x-axis and 'prices' column on y-axis\n",
    "\n",
    "line = sns.lineplot(data = df_small, x = 'orders_day_of_week',y = 'prices')"
   ]
  },
  {
   "cell_type": "code",
   "execution_count": 29,
   "id": "d3d143af-c501-4fe7-af04-4dfcd502daff",
   "metadata": {},
   "outputs": [],
   "source": [
    "# Export line chart image\n",
    "\n",
    "line.figure.savefig(os.path.join(path, '04 Analysis','Visualizations', 'line_weekdays_prices.png'))"
   ]
  },
  {
   "cell_type": "markdown",
   "id": "2b04af27-547f-4a9d-bfd0-3dfb6d21432f",
   "metadata": {},
   "source": [
    "### 07. Export file"
   ]
  },
  {
   "cell_type": "code",
   "execution_count": 31,
   "id": "9abf63d2-8ae3-40d7-b93b-17b12c1b24b0",
   "metadata": {},
   "outputs": [
    {
     "data": {
      "text/plain": [
       "(30323987, 23)"
      ]
     },
     "execution_count": 31,
     "metadata": {},
     "output_type": "execute_result"
    }
   ],
   "source": [
    "# Display dimension of df_price_clean\n",
    "\n",
    "df_price_clean.shape"
   ]
  },
  {
   "cell_type": "code",
   "execution_count": 33,
   "id": "18788598-6ec0-45f7-92b4-04650121362b",
   "metadata": {},
   "outputs": [],
   "source": [
    "# Export data (pkl file) as ords_prods_merge_agg\n",
    "\n",
    "df_price_clean.to_pickle(os.path.join(path, '02 Data','Prepared Data', 'ords_prods_merge_agg_cln.pkl'))"
   ]
  },
  {
   "cell_type": "code",
   "execution_count": null,
   "id": "76dec28e-d02a-4304-9a8c-68061b566c81",
   "metadata": {},
   "outputs": [],
   "source": []
  }
 ],
 "metadata": {
  "kernelspec": {
   "display_name": "cfinstacart",
   "language": "python",
   "name": "cfinstacart"
  },
  "language_info": {
   "codemirror_mode": {
    "name": "ipython",
    "version": 3
   },
   "file_extension": ".py",
   "mimetype": "text/x-python",
   "name": "python",
   "nbconvert_exporter": "python",
   "pygments_lexer": "ipython3",
   "version": "3.11.8"
  }
 },
 "nbformat": 4,
 "nbformat_minor": 5
}
